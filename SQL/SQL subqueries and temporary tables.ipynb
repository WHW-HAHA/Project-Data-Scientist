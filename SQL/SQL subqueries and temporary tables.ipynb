{
 "cells": [
  {
   "cell_type": "markdown",
   "id": "4f00b6cb",
   "metadata": {},
   "source": [
    "## SQL 子查询 和 临时表\n",
    "到目前为止，您已经学习了很多关于使用SQL处理数据的知识。本课将集中讨论三个主题:\n",
    "* 子查询\n",
    "* 临时表达式\n",
    "* 持续的派生表"
   ]
  },
  {
   "cell_type": "code",
   "execution_count": 1,
   "id": "4c90f670",
   "metadata": {},
   "outputs": [],
   "source": [
    "import pandas as pd\n",
    "import sqlite3 as sql"
   ]
  },
  {
   "cell_type": "code",
   "execution_count": 2,
   "id": "8a0d0ba9",
   "metadata": {},
   "outputs": [],
   "source": [
    "database = 'parchposey.db'\n",
    "connection = sql.connect(database)"
   ]
  },
  {
   "cell_type": "markdown",
   "id": "aff80a52",
   "metadata": {},
   "source": [
    "子查询和表表达式都是能够编写查询来创建表，然后编写查询来与这个新创建的表交互的方法。有时，当直接使用数据库中的现有表时，您试图回答的问题没有答案。\n",
    "\n",
    "但是，如果我们能够从现有表创建新表，我们知道我们可以查询这些新表来回答我们的问题。这就是这一课的问题的救急之处。\n",
    "\n",
    "如果您还想不出一个可能需要这样查询的问题，不要担心，因为您将看到一大堆这样的问题!\n",
    "\n",
    "每当我们需要使用现有的表来创建一个新表，然后我们想再次查询这个新表时，这就意味着我们需要使用某种子查询。在接下来的几个概念中，我们将一起浏览一个示例。"
   ]
  },
  {
   "cell_type": "markdown",
   "id": "ea414a27",
   "metadata": {},
   "source": [
    "## 子查询格式\n",
    "\n",
    "#### 不建议的格式\n",
    "\n",
    "SELECT * FROM (SELECT DATE_TRUNC('day',occurred_at) AS day, channel, COUNT(*) as events FROM web_events GROUP BY 1,2 ORDER BY 3 DESC) sub;\n",
    "\n",
    "#### 建议的格式\n",
    "\n",
    "SELECT * <br>\n",
    "FROM ( <br>\n",
    "SELECT DATE_TRUNC('day',occurred_at) AS day, <br>\n",
    "channel, COUNT(*) as events <br>\n",
    "FROM web_events <br>\n",
    "GROUP BY 1,2 <br>\n",
    "ORDER BY 3 DESC) sub; <br>"
   ]
  },
  {
   "cell_type": "markdown",
   "id": "a7bded86",
   "metadata": {},
   "source": [
    "![](Picture/DB_outline.png)"
   ]
  },
  {
   "cell_type": "markdown",
   "id": "51a62d45",
   "metadata": {},
   "source": [
    "## 练习1\n",
    "提供**total_amt_usd**销售额最大的每个**region**的**sales_rep**的**name**。\n",
    "\n",
    "对于这样的相对复杂的查询我们需要将逐步的构建子查询"
   ]
  },
  {
   "cell_type": "markdown",
   "id": "a13c2386",
   "metadata": {},
   "source": [
    "首先，我想找到与每个销售代表相关联的total_amt_usd总数，我还想知道他们所在的地区。下面的查询提供了这些信息。"
   ]
  },
  {
   "cell_type": "code",
   "execution_count": 3,
   "id": "bff0a6ac",
   "metadata": {},
   "outputs": [
    {
     "data": {
      "text/html": [
       "<div>\n",
       "<style scoped>\n",
       "    .dataframe tbody tr th:only-of-type {\n",
       "        vertical-align: middle;\n",
       "    }\n",
       "\n",
       "    .dataframe tbody tr th {\n",
       "        vertical-align: top;\n",
       "    }\n",
       "\n",
       "    .dataframe thead th {\n",
       "        text-align: right;\n",
       "    }\n",
       "</style>\n",
       "<table border=\"1\" class=\"dataframe\">\n",
       "  <thead>\n",
       "    <tr style=\"text-align: right;\">\n",
       "      <th></th>\n",
       "      <th>rep_name</th>\n",
       "      <th>region_name</th>\n",
       "      <th>total_amt</th>\n",
       "    </tr>\n",
       "  </thead>\n",
       "  <tbody>\n",
       "    <tr>\n",
       "      <th>0</th>\n",
       "      <td>Earlie Schleusner</td>\n",
       "      <td>Southeast</td>\n",
       "      <td>1098137.72</td>\n",
       "    </tr>\n",
       "    <tr>\n",
       "      <th>1</th>\n",
       "      <td>Tia Amato</td>\n",
       "      <td>Northeast</td>\n",
       "      <td>1010690.60</td>\n",
       "    </tr>\n",
       "    <tr>\n",
       "      <th>2</th>\n",
       "      <td>Vernita Plump</td>\n",
       "      <td>Southeast</td>\n",
       "      <td>934212.93</td>\n",
       "    </tr>\n",
       "    <tr>\n",
       "      <th>3</th>\n",
       "      <td>Georgianna Chisholm</td>\n",
       "      <td>West</td>\n",
       "      <td>886244.12</td>\n",
       "    </tr>\n",
       "    <tr>\n",
       "      <th>4</th>\n",
       "      <td>Arica Stoltzfus</td>\n",
       "      <td>West</td>\n",
       "      <td>810353.34</td>\n",
       "    </tr>\n",
       "    <tr>\n",
       "      <th>5</th>\n",
       "      <td>Dorotha Seawell</td>\n",
       "      <td>Southeast</td>\n",
       "      <td>766935.04</td>\n",
       "    </tr>\n",
       "    <tr>\n",
       "      <th>6</th>\n",
       "      <td>Nelle Meaux</td>\n",
       "      <td>Southeast</td>\n",
       "      <td>749076.16</td>\n",
       "    </tr>\n",
       "    <tr>\n",
       "      <th>7</th>\n",
       "      <td>Sibyl Lauria</td>\n",
       "      <td>Northeast</td>\n",
       "      <td>722084.27</td>\n",
       "    </tr>\n",
       "    <tr>\n",
       "      <th>8</th>\n",
       "      <td>Maren Musto</td>\n",
       "      <td>Southeast</td>\n",
       "      <td>702697.29</td>\n",
       "    </tr>\n",
       "    <tr>\n",
       "      <th>9</th>\n",
       "      <td>Brandie Riva</td>\n",
       "      <td>West</td>\n",
       "      <td>675917.64</td>\n",
       "    </tr>\n",
       "  </tbody>\n",
       "</table>\n",
       "</div>"
      ],
      "text/plain": [
       "              rep_name region_name   total_amt\n",
       "0    Earlie Schleusner   Southeast  1098137.72\n",
       "1            Tia Amato   Northeast  1010690.60\n",
       "2        Vernita Plump   Southeast   934212.93\n",
       "3  Georgianna Chisholm        West   886244.12\n",
       "4      Arica Stoltzfus        West   810353.34\n",
       "5      Dorotha Seawell   Southeast   766935.04\n",
       "6          Nelle Meaux   Southeast   749076.16\n",
       "7         Sibyl Lauria   Northeast   722084.27\n",
       "8          Maren Musto   Southeast   702697.29\n",
       "9         Brandie Riva        West   675917.64"
      ]
     },
     "execution_count": 3,
     "metadata": {},
     "output_type": "execute_result"
    }
   ],
   "source": [
    "query =  \"\\\n",
    "SELECT s.name rep_name, r.name region_name, SUM(o.total_amt_usd) total_amt \\\n",
    "FROM sales_reps s \\\n",
    "JOIN accounts a \\\n",
    "ON a.sales_rep_id = s.id \\\n",
    "JOIN orders o \\\n",
    "ON o.account_id = a.id \\\n",
    "JOIN region r \\\n",
    "ON r.id = s.region_id \\\n",
    "GROUP BY 1,2 \\\n",
    "ORDER BY 3 DESC \\\n",
    "LIMIT 10 \\\n",
    "\"\n",
    "df = pd.read_sql(query, connection)\n",
    "df"
   ]
  },
  {
   "cell_type": "markdown",
   "id": "654a7670",
   "metadata": {},
   "source": [
    "接下来，我找出每个区域的销售额的最大值。"
   ]
  },
  {
   "cell_type": "code",
   "execution_count": 4,
   "id": "3934a58d",
   "metadata": {},
   "outputs": [
    {
     "data": {
      "text/html": [
       "<div>\n",
       "<style scoped>\n",
       "    .dataframe tbody tr th:only-of-type {\n",
       "        vertical-align: middle;\n",
       "    }\n",
       "\n",
       "    .dataframe tbody tr th {\n",
       "        vertical-align: top;\n",
       "    }\n",
       "\n",
       "    .dataframe thead th {\n",
       "        text-align: right;\n",
       "    }\n",
       "</style>\n",
       "<table border=\"1\" class=\"dataframe\">\n",
       "  <thead>\n",
       "    <tr style=\"text-align: right;\">\n",
       "      <th></th>\n",
       "      <th>region_name</th>\n",
       "      <th>total_amt</th>\n",
       "    </tr>\n",
       "  </thead>\n",
       "  <tbody>\n",
       "    <tr>\n",
       "      <th>0</th>\n",
       "      <td>Midwest</td>\n",
       "      <td>675637.19</td>\n",
       "    </tr>\n",
       "    <tr>\n",
       "      <th>1</th>\n",
       "      <td>Northeast</td>\n",
       "      <td>1010690.60</td>\n",
       "    </tr>\n",
       "    <tr>\n",
       "      <th>2</th>\n",
       "      <td>Southeast</td>\n",
       "      <td>1098137.72</td>\n",
       "    </tr>\n",
       "    <tr>\n",
       "      <th>3</th>\n",
       "      <td>West</td>\n",
       "      <td>886244.12</td>\n",
       "    </tr>\n",
       "  </tbody>\n",
       "</table>\n",
       "</div>"
      ],
      "text/plain": [
       "  region_name   total_amt\n",
       "0     Midwest   675637.19\n",
       "1   Northeast  1010690.60\n",
       "2   Southeast  1098137.72\n",
       "3        West   886244.12"
      ]
     },
     "execution_count": 4,
     "metadata": {},
     "output_type": "execute_result"
    }
   ],
   "source": [
    "query = \"SELECT region_name, MAX(total_amt) total_amt \\\n",
    "            FROM (SELECT s.name rep_name, r.name region_name, SUM(o.total_amt_usd) total_amt \\\n",
    "                FROM sales_reps s \\\n",
    "                JOIN accounts a \\\n",
    "                ON a.sales_rep_id = s.id \\\n",
    "                JOIN orders o \\\n",
    "                ON o.account_id = a.id \\\n",
    "                JOIN region r \\\n",
    "                ON r.id = s.region_id \\\n",
    "                GROUP BY 1,2 ) t1 \\\n",
    "        GROUP BY region_name\"\n",
    "    \n",
    "df = pd.read_sql(query, connection)\n",
    "df"
   ]
  },
  {
   "cell_type": "markdown",
   "id": "db93c41c",
   "metadata": {},
   "source": [
    "最后我们需要将之前的这两个查询的表JOIN在一起，并且通过使**region** 和 **total_amt**匹配来找出对应的销售代表的**name**"
   ]
  },
  {
   "cell_type": "code",
   "execution_count": 10,
   "id": "be9a36c3",
   "metadata": {},
   "outputs": [
    {
     "data": {
      "text/html": [
       "<div>\n",
       "<style scoped>\n",
       "    .dataframe tbody tr th:only-of-type {\n",
       "        vertical-align: middle;\n",
       "    }\n",
       "\n",
       "    .dataframe tbody tr th {\n",
       "        vertical-align: top;\n",
       "    }\n",
       "\n",
       "    .dataframe thead th {\n",
       "        text-align: right;\n",
       "    }\n",
       "</style>\n",
       "<table border=\"1\" class=\"dataframe\">\n",
       "  <thead>\n",
       "    <tr style=\"text-align: right;\">\n",
       "      <th></th>\n",
       "      <th>rep_name</th>\n",
       "      <th>region_name</th>\n",
       "      <th>total_amt</th>\n",
       "    </tr>\n",
       "  </thead>\n",
       "  <tbody>\n",
       "    <tr>\n",
       "      <th>0</th>\n",
       "      <td>Charles Bidwell</td>\n",
       "      <td>Midwest</td>\n",
       "      <td>675637.19</td>\n",
       "    </tr>\n",
       "    <tr>\n",
       "      <th>1</th>\n",
       "      <td>Tia Amato</td>\n",
       "      <td>Northeast</td>\n",
       "      <td>1010690.60</td>\n",
       "    </tr>\n",
       "    <tr>\n",
       "      <th>2</th>\n",
       "      <td>Earlie Schleusner</td>\n",
       "      <td>Southeast</td>\n",
       "      <td>1098137.72</td>\n",
       "    </tr>\n",
       "    <tr>\n",
       "      <th>3</th>\n",
       "      <td>Georgianna Chisholm</td>\n",
       "      <td>West</td>\n",
       "      <td>886244.12</td>\n",
       "    </tr>\n",
       "  </tbody>\n",
       "</table>\n",
       "</div>"
      ],
      "text/plain": [
       "              rep_name region_name   total_amt\n",
       "0      Charles Bidwell     Midwest   675637.19\n",
       "1            Tia Amato   Northeast  1010690.60\n",
       "2    Earlie Schleusner   Southeast  1098137.72\n",
       "3  Georgianna Chisholm        West   886244.12"
      ]
     },
     "execution_count": 10,
     "metadata": {},
     "output_type": "execute_result"
    }
   ],
   "source": [
    "query = \"SELECT t3.rep_name, t3.region_name, t3.total_amt \\\n",
    "FROM(SELECT region_name, MAX(total_amt) total_amt \\\n",
    "     FROM(SELECT s.name rep_name, r.name region_name, SUM(o.total_amt_usd) total_amt \\\n",
    "             FROM sales_reps s \\\n",
    "             JOIN accounts a \\\n",
    "             ON a.sales_rep_id = s.id \\\n",
    "             JOIN orders o \\\n",
    "             ON o.account_id = a.id \\\n",
    "             JOIN region r \\\n",
    "             ON r.id = s.region_id \\\n",
    "             GROUP BY 1, 2) t1 \\\n",
    "     GROUP BY 1) t2 \\\n",
    "JOIN (SELECT s.name rep_name, r.name region_name, SUM(o.total_amt_usd) total_amt \\\n",
    "     FROM sales_reps s \\\n",
    "     JOIN accounts a \\\n",
    "     ON a.sales_rep_id = s.id \\\n",
    "     JOIN orders o \\\n",
    "     ON o.account_id = a.id \\\n",
    "     JOIN region r \\\n",
    "     ON r.id = s.region_id \\\n",
    "     GROUP BY 1,2 \\\n",
    "     ORDER BY 3 DESC) t3 \\\n",
    "ON t3.region_name = t2.region_name AND t3.total_amt = t2.total_amt;\"\n",
    "    \n",
    "df = pd.read_sql(query, connection)\n",
    "df"
   ]
  },
  {
   "cell_type": "markdown",
   "id": "24681acc",
   "metadata": {},
   "source": [
    "![](Picture/DB_outline.png)"
   ]
  },
  {
   "cell_type": "markdown",
   "id": "9100a5a0",
   "metadata": {},
   "source": [
    "## 练习2\n",
    "在total_amt_usd最高的地区，总共下了多少订单?"
   ]
  },
  {
   "cell_type": "code",
   "execution_count": 13,
   "id": "14e7be23",
   "metadata": {},
   "outputs": [
    {
     "data": {
      "text/html": [
       "<div>\n",
       "<style scoped>\n",
       "    .dataframe tbody tr th:only-of-type {\n",
       "        vertical-align: middle;\n",
       "    }\n",
       "\n",
       "    .dataframe tbody tr th {\n",
       "        vertical-align: top;\n",
       "    }\n",
       "\n",
       "    .dataframe thead th {\n",
       "        text-align: right;\n",
       "    }\n",
       "</style>\n",
       "<table border=\"1\" class=\"dataframe\">\n",
       "  <thead>\n",
       "    <tr style=\"text-align: right;\">\n",
       "      <th></th>\n",
       "      <th>region_name</th>\n",
       "      <th>total_amt</th>\n",
       "    </tr>\n",
       "  </thead>\n",
       "  <tbody>\n",
       "    <tr>\n",
       "      <th>0</th>\n",
       "      <td>Midwest</td>\n",
       "      <td>3013486.51</td>\n",
       "    </tr>\n",
       "    <tr>\n",
       "      <th>1</th>\n",
       "      <td>Northeast</td>\n",
       "      <td>7744405.36</td>\n",
       "    </tr>\n",
       "    <tr>\n",
       "      <th>2</th>\n",
       "      <td>Southeast</td>\n",
       "      <td>6458497.00</td>\n",
       "    </tr>\n",
       "    <tr>\n",
       "      <th>3</th>\n",
       "      <td>West</td>\n",
       "      <td>5925122.96</td>\n",
       "    </tr>\n",
       "  </tbody>\n",
       "</table>\n",
       "</div>"
      ],
      "text/plain": [
       "  region_name   total_amt\n",
       "0     Midwest  3013486.51\n",
       "1   Northeast  7744405.36\n",
       "2   Southeast  6458497.00\n",
       "3        West  5925122.96"
      ]
     },
     "execution_count": 13,
     "metadata": {},
     "output_type": "execute_result"
    }
   ],
   "source": [
    "query = \"\\\n",
    "    SELECT r.name region_name, SUM(o.total_amt_usd) total_amt \\\n",
    "    FROM sales_reps s \\\n",
    "    JOIN accounts a \\\n",
    "    ON a.sales_rep_id = s.id \\\n",
    "    JOIN orders o \\\n",
    "    ON o.account_id = a.id \\\n",
    "    JOIN region r \\\n",
    "    ON r.id = s.region_id \\\n",
    "    GROUP BY 1\" \n",
    "df = pd.read_sql(query, connection)\n",
    "df"
   ]
  },
  {
   "cell_type": "markdown",
   "id": "bdaee1a9",
   "metadata": {},
   "source": [
    "然后我们只需要这个表中最大的区域。我考虑了两种方法来得到这个数目。一种是使用子查询获取最大值。另一种方法是降序排列，只提取顶部的值。"
   ]
  },
  {
   "cell_type": "code",
   "execution_count": 19,
   "id": "46c69e20",
   "metadata": {},
   "outputs": [
    {
     "data": {
      "text/html": [
       "<div>\n",
       "<style scoped>\n",
       "    .dataframe tbody tr th:only-of-type {\n",
       "        vertical-align: middle;\n",
       "    }\n",
       "\n",
       "    .dataframe tbody tr th {\n",
       "        vertical-align: top;\n",
       "    }\n",
       "\n",
       "    .dataframe thead th {\n",
       "        text-align: right;\n",
       "    }\n",
       "</style>\n",
       "<table border=\"1\" class=\"dataframe\">\n",
       "  <thead>\n",
       "    <tr style=\"text-align: right;\">\n",
       "      <th></th>\n",
       "      <th>MAX(total_amt)</th>\n",
       "    </tr>\n",
       "  </thead>\n",
       "  <tbody>\n",
       "    <tr>\n",
       "      <th>0</th>\n",
       "      <td>7744405.36</td>\n",
       "    </tr>\n",
       "  </tbody>\n",
       "</table>\n",
       "</div>"
      ],
      "text/plain": [
       "   MAX(total_amt)\n",
       "0      7744405.36"
      ]
     },
     "execution_count": 19,
     "metadata": {},
     "output_type": "execute_result"
    }
   ],
   "source": [
    "query = \"\\\n",
    "        SELECT MAX(total_amt) \\\n",
    "        FROM (SELECT r.name region_name, SUM(o.total_amt_usd) total_amt \\\n",
    "             FROM sales_reps s \\\n",
    "             JOIN accounts a \\\n",
    "             ON a.sales_rep_id = s.id \\\n",
    "             JOIN orders o \\\n",
    "             ON o.account_id = a.id \\\n",
    "             JOIN region r \\\n",
    "             ON r.id = s.region_id \\\n",
    "             GROUP BY r.name) sub;\"\n",
    "df = pd.read_sql(query, connection)\n",
    "df"
   ]
  },
  {
   "cell_type": "markdown",
   "id": "0f5bb6f6",
   "metadata": {},
   "source": [
    "最后，通过使最大订单数量相等我们可以找出地区。"
   ]
  },
  {
   "cell_type": "code",
   "execution_count": 18,
   "id": "337342ac",
   "metadata": {},
   "outputs": [
    {
     "data": {
      "text/html": [
       "<div>\n",
       "<style scoped>\n",
       "    .dataframe tbody tr th:only-of-type {\n",
       "        vertical-align: middle;\n",
       "    }\n",
       "\n",
       "    .dataframe tbody tr th {\n",
       "        vertical-align: top;\n",
       "    }\n",
       "\n",
       "    .dataframe thead th {\n",
       "        text-align: right;\n",
       "    }\n",
       "</style>\n",
       "<table border=\"1\" class=\"dataframe\">\n",
       "  <thead>\n",
       "    <tr style=\"text-align: right;\">\n",
       "      <th></th>\n",
       "      <th>name</th>\n",
       "      <th>total_orders</th>\n",
       "    </tr>\n",
       "  </thead>\n",
       "  <tbody>\n",
       "    <tr>\n",
       "      <th>0</th>\n",
       "      <td>Northeast</td>\n",
       "      <td>2357</td>\n",
       "    </tr>\n",
       "  </tbody>\n",
       "</table>\n",
       "</div>"
      ],
      "text/plain": [
       "        name  total_orders\n",
       "0  Northeast          2357"
      ]
     },
     "execution_count": 18,
     "metadata": {},
     "output_type": "execute_result"
    }
   ],
   "source": [
    "query = \"\\\n",
    "SELECT r.name, COUNT(o.total) total_orders \\\n",
    "FROM sales_reps s \\\n",
    "JOIN accounts a \\\n",
    "ON a.sales_rep_id = s.id \\\n",
    "JOIN orders o \\\n",
    "ON o.account_id = a.id \\\n",
    "JOIN region r \\\n",
    "ON r.id = s.region_id \\\n",
    "GROUP BY r.name \\\n",
    "HAVING SUM(o.total_amt_usd) = ( \\\n",
    "      SELECT MAX(total_amt) \\\n",
    "      FROM (SELECT r.name region_name, SUM(o.total_amt_usd) total_amt \\\n",
    "              FROM sales_reps s \\\n",
    "              JOIN accounts a \\\n",
    "              ON a.sales_rep_id = s.id \\\n",
    "              JOIN orders o \\\n",
    "              ON o.account_id = a.id \\\n",
    "              JOIN region r \\\n",
    "              ON r.id = s.region_id \\\n",
    "              GROUP BY r.name) sub);\"\n",
    "df = pd.read_sql(query, connection)\n",
    "df"
   ]
  },
  {
   "cell_type": "markdown",
   "id": "72634042",
   "metadata": {},
   "source": [
    "## 练习3\n",
    "有多少**account**的总购买量超过了拥有最多**standard_qty**的账户的总购买量?\n",
    "![](Picture/DB_outline.png)"
   ]
  },
  {
   "cell_type": "markdown",
   "id": "f13e7232",
   "metadata": {},
   "source": [
    "首先，我们想找到拥有最标准数量的纸张的帐户。这里的查询将找到这个帐户以及总购买金额:"
   ]
  },
  {
   "cell_type": "code",
   "execution_count": 13,
   "id": "c2bd135c",
   "metadata": {},
   "outputs": [
    {
     "data": {
      "text/html": [
       "<div>\n",
       "<style scoped>\n",
       "    .dataframe tbody tr th:only-of-type {\n",
       "        vertical-align: middle;\n",
       "    }\n",
       "\n",
       "    .dataframe tbody tr th {\n",
       "        vertical-align: top;\n",
       "    }\n",
       "\n",
       "    .dataframe thead th {\n",
       "        text-align: right;\n",
       "    }\n",
       "</style>\n",
       "<table border=\"1\" class=\"dataframe\">\n",
       "  <thead>\n",
       "    <tr style=\"text-align: right;\">\n",
       "      <th></th>\n",
       "      <th>account_name</th>\n",
       "      <th>total_std</th>\n",
       "      <th>total</th>\n",
       "    </tr>\n",
       "  </thead>\n",
       "  <tbody>\n",
       "    <tr>\n",
       "      <th>0</th>\n",
       "      <td>Core-Mark Holding</td>\n",
       "      <td>41617</td>\n",
       "      <td>44750</td>\n",
       "    </tr>\n",
       "  </tbody>\n",
       "</table>\n",
       "</div>"
      ],
      "text/plain": [
       "        account_name  total_std  total\n",
       "0  Core-Mark Holding      41617  44750"
      ]
     },
     "execution_count": 13,
     "metadata": {},
     "output_type": "execute_result"
    }
   ],
   "source": [
    "query = \"\\\n",
    "    SELECT a.name account_name, SUM(o.standard_qty) total_std, SUM(o.total) total \\\n",
    "    FROM accounts a \\\n",
    "    JOIN orders o \\\n",
    "    ON o.account_id = a.id \\\n",
    "    GROUP BY 1 \\\n",
    "    ORDER BY 2 DESC \\\n",
    "    LIMIT 1; \"\n",
    "df = pd.read_sql(query, connection)\n",
    "df"
   ]
  },
  {
   "cell_type": "markdown",
   "id": "abb761dd",
   "metadata": {},
   "source": [
    "接下来我们用上面的结果来找出所有总订单量大于Core-Mark Hloding的总订单量的**account**"
   ]
  },
  {
   "cell_type": "code",
   "execution_count": 12,
   "id": "2ced5547",
   "metadata": {},
   "outputs": [
    {
     "data": {
      "text/html": [
       "<div>\n",
       "<style scoped>\n",
       "    .dataframe tbody tr th:only-of-type {\n",
       "        vertical-align: middle;\n",
       "    }\n",
       "\n",
       "    .dataframe tbody tr th {\n",
       "        vertical-align: top;\n",
       "    }\n",
       "\n",
       "    .dataframe thead th {\n",
       "        text-align: right;\n",
       "    }\n",
       "</style>\n",
       "<table border=\"1\" class=\"dataframe\">\n",
       "  <thead>\n",
       "    <tr style=\"text-align: right;\">\n",
       "      <th></th>\n",
       "      <th>name</th>\n",
       "      <th>total</th>\n",
       "    </tr>\n",
       "  </thead>\n",
       "  <tbody>\n",
       "    <tr>\n",
       "      <th>0</th>\n",
       "      <td>EOG Resources</td>\n",
       "      <td>56410</td>\n",
       "    </tr>\n",
       "    <tr>\n",
       "      <th>1</th>\n",
       "      <td>IBM</td>\n",
       "      <td>47506</td>\n",
       "    </tr>\n",
       "    <tr>\n",
       "      <th>2</th>\n",
       "      <td>Mosaic</td>\n",
       "      <td>49246</td>\n",
       "    </tr>\n",
       "  </tbody>\n",
       "</table>\n",
       "</div>"
      ],
      "text/plain": [
       "            name  total\n",
       "0  EOG Resources  56410\n",
       "1            IBM  47506\n",
       "2         Mosaic  49246"
      ]
     },
     "execution_count": 12,
     "metadata": {},
     "output_type": "execute_result"
    }
   ],
   "source": [
    "query = \"\\\n",
    "        SELECT a.name, sum(o.total) total \\\n",
    "        FROM orders o \\\n",
    "        JOIN accounts a \\\n",
    "        ON a.id = o.account_id \\\n",
    "        GROUP BY 1 \\\n",
    "        HAVING SUM(o.total) > (SELECT total \\\n",
    "                           FROM (SELECT a.name act_name, SUM(o.standard_qty) tot_std, SUM(o.total) total \\\n",
    "                                 FROM accounts a \\\n",
    "                                 JOIN orders o \\\n",
    "                                 ON o.account_id = a.id \\\n",
    "                                 GROUP BY 1 \\\n",
    "                                 ORDER BY 2 DESC \\\n",
    "                                 LIMIT 1) sub); \"\n",
    "df = pd.read_sql(query, connection)\n",
    "df"
   ]
  },
  {
   "cell_type": "markdown",
   "id": "03623e35",
   "metadata": {},
   "source": [
    "接下来只需要简单的使用**COUNT**计算一下数量就行了"
   ]
  },
  {
   "cell_type": "code",
   "execution_count": 16,
   "id": "471050e7",
   "metadata": {},
   "outputs": [
    {
     "data": {
      "text/html": [
       "<div>\n",
       "<style scoped>\n",
       "    .dataframe tbody tr th:only-of-type {\n",
       "        vertical-align: middle;\n",
       "    }\n",
       "\n",
       "    .dataframe tbody tr th {\n",
       "        vertical-align: top;\n",
       "    }\n",
       "\n",
       "    .dataframe thead th {\n",
       "        text-align: right;\n",
       "    }\n",
       "</style>\n",
       "<table border=\"1\" class=\"dataframe\">\n",
       "  <thead>\n",
       "    <tr style=\"text-align: right;\">\n",
       "      <th></th>\n",
       "      <th>COUNT(counter_tab.name)</th>\n",
       "    </tr>\n",
       "  </thead>\n",
       "  <tbody>\n",
       "    <tr>\n",
       "      <th>0</th>\n",
       "      <td>3</td>\n",
       "    </tr>\n",
       "  </tbody>\n",
       "</table>\n",
       "</div>"
      ],
      "text/plain": [
       "   COUNT(counter_tab.name)\n",
       "0                        3"
      ]
     },
     "execution_count": 16,
     "metadata": {},
     "output_type": "execute_result"
    }
   ],
   "source": [
    "query = \"\\\n",
    "        SELECT COUNT(counter_tab.name) \\\n",
    "        FROM (SELECT a.name, SUM(o.total) total \\\n",
    "               FROM orders o \\\n",
    "               JOIN accounts a \\\n",
    "               ON a.id = o.account_id \\\n",
    "               GROUP BY 1 \\\n",
    "               HAVING SUM(o.total) > (SELECT total \\\n",
    "                           FROM (SELECT a.name act_name, SUM(o.standard_qty) tot_std, SUM(o.total) total \\\n",
    "                                 FROM accounts a \\\n",
    "                                 JOIN orders o \\\n",
    "                                 ON o.account_id = a.id \\\n",
    "                                 GROUP BY 1 \\\n",
    "                                 ORDER BY 2 DESC \\\n",
    "                                 LIMIT 1) inner_tab) \\\n",
    "                     ) counter_tab;\"\n",
    "df = pd.read_sql(query, connection)\n",
    "df"
   ]
  },
  {
   "cell_type": "markdown",
   "id": "b426d5eb",
   "metadata": {},
   "source": [
    "## 练习 4 \n",
    "花费最多的客户(total_amt_usd 数量最多)，他在每个渠道中有多少web_events ?"
   ]
  },
  {
   "cell_type": "markdown",
   "id": "08adffe8",
   "metadata": {},
   "source": [
    "首先要找到这个花费最多的土豪客户"
   ]
  },
  {
   "cell_type": "code",
   "execution_count": 20,
   "id": "a20a9baf",
   "metadata": {},
   "outputs": [
    {
     "data": {
      "text/html": [
       "<div>\n",
       "<style scoped>\n",
       "    .dataframe tbody tr th:only-of-type {\n",
       "        vertical-align: middle;\n",
       "    }\n",
       "\n",
       "    .dataframe tbody tr th {\n",
       "        vertical-align: top;\n",
       "    }\n",
       "\n",
       "    .dataframe thead th {\n",
       "        text-align: right;\n",
       "    }\n",
       "</style>\n",
       "<table border=\"1\" class=\"dataframe\">\n",
       "  <thead>\n",
       "    <tr style=\"text-align: right;\">\n",
       "      <th></th>\n",
       "      <th>id</th>\n",
       "      <th>name</th>\n",
       "      <th>tot_spent</th>\n",
       "    </tr>\n",
       "  </thead>\n",
       "  <tbody>\n",
       "    <tr>\n",
       "      <th>0</th>\n",
       "      <td>4211</td>\n",
       "      <td>EOG Resources</td>\n",
       "      <td>382873.3</td>\n",
       "    </tr>\n",
       "  </tbody>\n",
       "</table>\n",
       "</div>"
      ],
      "text/plain": [
       "     id           name  tot_spent\n",
       "0  4211  EOG Resources   382873.3"
      ]
     },
     "execution_count": 20,
     "metadata": {},
     "output_type": "execute_result"
    }
   ],
   "source": [
    "query = \"\\\n",
    "        SELECT a.id, a.name, SUM(o.total_amt_usd) tot_spent \\\n",
    "        FROM orders o \\\n",
    "        JOIN accounts a \\\n",
    "        ON a.id = o.account_id \\\n",
    "        GROUP BY a.id, a.name \\\n",
    "        ORDER BY 3 DESC \\\n",
    "        LIMIT 1;\"\n",
    "df = pd.read_sql(query, connection)\n",
    "df"
   ]
  },
  {
   "cell_type": "markdown",
   "id": "77af06cd",
   "metadata": {},
   "source": [
    "现在，通过匹配id，我们就可以算出该公司在每个频道上拥有的事件数量"
   ]
  },
  {
   "cell_type": "code",
   "execution_count": 18,
   "id": "9f46a257",
   "metadata": {},
   "outputs": [
    {
     "data": {
      "text/html": [
       "<div>\n",
       "<style scoped>\n",
       "    .dataframe tbody tr th:only-of-type {\n",
       "        vertical-align: middle;\n",
       "    }\n",
       "\n",
       "    .dataframe tbody tr th {\n",
       "        vertical-align: top;\n",
       "    }\n",
       "\n",
       "    .dataframe thead th {\n",
       "        text-align: right;\n",
       "    }\n",
       "</style>\n",
       "<table border=\"1\" class=\"dataframe\">\n",
       "  <thead>\n",
       "    <tr style=\"text-align: right;\">\n",
       "      <th></th>\n",
       "      <th>name</th>\n",
       "      <th>channel</th>\n",
       "      <th>COUNT(*)</th>\n",
       "    </tr>\n",
       "  </thead>\n",
       "  <tbody>\n",
       "    <tr>\n",
       "      <th>0</th>\n",
       "      <td>EOG Resources</td>\n",
       "      <td>direct</td>\n",
       "      <td>44</td>\n",
       "    </tr>\n",
       "    <tr>\n",
       "      <th>1</th>\n",
       "      <td>EOG Resources</td>\n",
       "      <td>organic</td>\n",
       "      <td>13</td>\n",
       "    </tr>\n",
       "    <tr>\n",
       "      <th>2</th>\n",
       "      <td>EOG Resources</td>\n",
       "      <td>adwords</td>\n",
       "      <td>12</td>\n",
       "    </tr>\n",
       "    <tr>\n",
       "      <th>3</th>\n",
       "      <td>EOG Resources</td>\n",
       "      <td>facebook</td>\n",
       "      <td>11</td>\n",
       "    </tr>\n",
       "    <tr>\n",
       "      <th>4</th>\n",
       "      <td>EOG Resources</td>\n",
       "      <td>twitter</td>\n",
       "      <td>5</td>\n",
       "    </tr>\n",
       "    <tr>\n",
       "      <th>5</th>\n",
       "      <td>EOG Resources</td>\n",
       "      <td>banner</td>\n",
       "      <td>4</td>\n",
       "    </tr>\n",
       "  </tbody>\n",
       "</table>\n",
       "</div>"
      ],
      "text/plain": [
       "            name   channel  COUNT(*)\n",
       "0  EOG Resources    direct        44\n",
       "1  EOG Resources   organic        13\n",
       "2  EOG Resources   adwords        12\n",
       "3  EOG Resources  facebook        11\n",
       "4  EOG Resources   twitter         5\n",
       "5  EOG Resources    banner         4"
      ]
     },
     "execution_count": 18,
     "metadata": {},
     "output_type": "execute_result"
    }
   ],
   "source": [
    "query = \"\\\n",
    "        SELECT a.name, w.channel, COUNT(*) \\\n",
    "        FROM accounts a \\\n",
    "        JOIN web_events w \\\n",
    "        ON a.id = w.account_id AND a.id =  (SELECT id \\\n",
    "                             FROM (SELECT a.id, a.name, SUM(o.total_amt_usd) tot_spent \\\n",
    "                                   FROM orders o \\\n",
    "                                   JOIN accounts a \\\n",
    "                                   ON a.id = o.account_id \\\n",
    "                                   GROUP BY a.id, a.name \\\n",
    "                                   ORDER BY 3 DESC \\\n",
    "                                   LIMIT 1) inner_table) \\\n",
    "        GROUP BY 1, 2 \\\n",
    "        ORDER BY 3 DESC;\"\n",
    "df = pd.read_sql(query, connection)\n",
    "df"
   ]
  },
  {
   "cell_type": "markdown",
   "id": "dde3bb31",
   "metadata": {},
   "source": [
    "练习章节中也准备了几道题，去试着做一下吧。加油"
   ]
  },
  {
   "cell_type": "markdown",
   "id": "2946db9c",
   "metadata": {},
   "source": [
    "练习 section 10 的 5 6"
   ]
  },
  {
   "cell_type": "markdown",
   "id": "30030663",
   "metadata": {},
   "source": [
    "## WITH\n",
    "**WITH**语句通常被称为公共表表达式(CTE)。WITH语句可以把子表的创建从复杂的查询语句中脱离出来，并放到整个查询语句的最前面。尽管这些表达式的用途与子查询完全相同，但它们在实践中更为常见，因为它们对于以后的读者更容易理解逻辑。"
   ]
  },
  {
   "cell_type": "markdown",
   "id": "f4c9e342",
   "metadata": {},
   "source": [
    "![](Picture/WITH_template.png)"
   ]
  },
  {
   "cell_type": "markdown",
   "id": "87c1a76c",
   "metadata": {},
   "source": [
    "下面我们通过上面的练习4来了解一下WITH语句和子查询的异同"
   ]
  },
  {
   "cell_type": "markdown",
   "id": "5e068aaa",
   "metadata": {},
   "source": [
    "问：计算出每个频道每天的平均事件数。"
   ]
  },
  {
   "cell_type": "markdown",
   "id": "8a280872",
   "metadata": {},
   "source": [
    "通过子查询的方式"
   ]
  },
  {
   "cell_type": "code",
   "execution_count": 27,
   "id": "ae445e13",
   "metadata": {},
   "outputs": [
    {
     "data": {
      "text/html": [
       "<div>\n",
       "<style scoped>\n",
       "    .dataframe tbody tr th:only-of-type {\n",
       "        vertical-align: middle;\n",
       "    }\n",
       "\n",
       "    .dataframe tbody tr th {\n",
       "        vertical-align: top;\n",
       "    }\n",
       "\n",
       "    .dataframe thead th {\n",
       "        text-align: right;\n",
       "    }\n",
       "</style>\n",
       "<table border=\"1\" class=\"dataframe\">\n",
       "  <thead>\n",
       "    <tr style=\"text-align: right;\">\n",
       "      <th></th>\n",
       "      <th>name</th>\n",
       "      <th>channel</th>\n",
       "      <th>COUNT(*)</th>\n",
       "    </tr>\n",
       "  </thead>\n",
       "  <tbody>\n",
       "    <tr>\n",
       "      <th>0</th>\n",
       "      <td>EOG Resources</td>\n",
       "      <td>direct</td>\n",
       "      <td>44</td>\n",
       "    </tr>\n",
       "    <tr>\n",
       "      <th>1</th>\n",
       "      <td>EOG Resources</td>\n",
       "      <td>organic</td>\n",
       "      <td>13</td>\n",
       "    </tr>\n",
       "    <tr>\n",
       "      <th>2</th>\n",
       "      <td>EOG Resources</td>\n",
       "      <td>adwords</td>\n",
       "      <td>12</td>\n",
       "    </tr>\n",
       "    <tr>\n",
       "      <th>3</th>\n",
       "      <td>EOG Resources</td>\n",
       "      <td>facebook</td>\n",
       "      <td>11</td>\n",
       "    </tr>\n",
       "    <tr>\n",
       "      <th>4</th>\n",
       "      <td>EOG Resources</td>\n",
       "      <td>twitter</td>\n",
       "      <td>5</td>\n",
       "    </tr>\n",
       "    <tr>\n",
       "      <th>5</th>\n",
       "      <td>EOG Resources</td>\n",
       "      <td>banner</td>\n",
       "      <td>4</td>\n",
       "    </tr>\n",
       "  </tbody>\n",
       "</table>\n",
       "</div>"
      ],
      "text/plain": [
       "            name   channel  COUNT(*)\n",
       "0  EOG Resources    direct        44\n",
       "1  EOG Resources   organic        13\n",
       "2  EOG Resources   adwords        12\n",
       "3  EOG Resources  facebook        11\n",
       "4  EOG Resources   twitter         5\n",
       "5  EOG Resources    banner         4"
      ]
     },
     "execution_count": 27,
     "metadata": {},
     "output_type": "execute_result"
    }
   ],
   "source": [
    "query = \"\\\n",
    "        SELECT a.name, w.channel, COUNT(*) \\\n",
    "        FROM accounts a \\\n",
    "        JOIN web_events w \\\n",
    "        ON a.id = w.account_id AND a.id =  (SELECT id \\\n",
    "                             FROM (SELECT a.id, a.name, SUM(o.total_amt_usd) tot_spent \\\n",
    "                                   FROM orders o \\\n",
    "                                   JOIN accounts a \\\n",
    "                                   ON a.id = o.account_id \\\n",
    "                                   GROUP BY a.id, a.name \\\n",
    "                                   ORDER BY 3 DESC \\\n",
    "                                   LIMIT 1) inner_table) \\\n",
    "        GROUP BY 1, 2 \\\n",
    "        ORDER BY 3 DESC;\"\n",
    "df = pd.read_sql(query, connection)\n",
    "df"
   ]
  },
  {
   "cell_type": "markdown",
   "id": "cc9d6ecc",
   "metadata": {},
   "source": [
    "通过**WITH**语句的方式\n",
    "\n",
    "我把之前子查询方式中的inner_table 提取出来并通过**WITH** 语句放在前面。\n",
    "\n",
    "之后在后面调用的时候将inner_table 和 accounts， web_events 表JOIN 在一起来获得与子查询方式相同的结果。"
   ]
  },
  {
   "cell_type": "code",
   "execution_count": 30,
   "id": "6f952da8",
   "metadata": {},
   "outputs": [
    {
     "data": {
      "text/html": [
       "<div>\n",
       "<style scoped>\n",
       "    .dataframe tbody tr th:only-of-type {\n",
       "        vertical-align: middle;\n",
       "    }\n",
       "\n",
       "    .dataframe tbody tr th {\n",
       "        vertical-align: top;\n",
       "    }\n",
       "\n",
       "    .dataframe thead th {\n",
       "        text-align: right;\n",
       "    }\n",
       "</style>\n",
       "<table border=\"1\" class=\"dataframe\">\n",
       "  <thead>\n",
       "    <tr style=\"text-align: right;\">\n",
       "      <th></th>\n",
       "      <th>name</th>\n",
       "      <th>channel</th>\n",
       "      <th>COUNT(*)</th>\n",
       "    </tr>\n",
       "  </thead>\n",
       "  <tbody>\n",
       "    <tr>\n",
       "      <th>0</th>\n",
       "      <td>EOG Resources</td>\n",
       "      <td>direct</td>\n",
       "      <td>44</td>\n",
       "    </tr>\n",
       "    <tr>\n",
       "      <th>1</th>\n",
       "      <td>EOG Resources</td>\n",
       "      <td>organic</td>\n",
       "      <td>13</td>\n",
       "    </tr>\n",
       "    <tr>\n",
       "      <th>2</th>\n",
       "      <td>EOG Resources</td>\n",
       "      <td>adwords</td>\n",
       "      <td>12</td>\n",
       "    </tr>\n",
       "    <tr>\n",
       "      <th>3</th>\n",
       "      <td>EOG Resources</td>\n",
       "      <td>facebook</td>\n",
       "      <td>11</td>\n",
       "    </tr>\n",
       "    <tr>\n",
       "      <th>4</th>\n",
       "      <td>EOG Resources</td>\n",
       "      <td>twitter</td>\n",
       "      <td>5</td>\n",
       "    </tr>\n",
       "    <tr>\n",
       "      <th>5</th>\n",
       "      <td>EOG Resources</td>\n",
       "      <td>banner</td>\n",
       "      <td>4</td>\n",
       "    </tr>\n",
       "  </tbody>\n",
       "</table>\n",
       "</div>"
      ],
      "text/plain": [
       "            name   channel  COUNT(*)\n",
       "0  EOG Resources    direct        44\n",
       "1  EOG Resources   organic        13\n",
       "2  EOG Resources   adwords        12\n",
       "3  EOG Resources  facebook        11\n",
       "4  EOG Resources   twitter         5\n",
       "5  EOG Resources    banner         4"
      ]
     },
     "execution_count": 30,
     "metadata": {},
     "output_type": "execute_result"
    }
   ],
   "source": [
    "query = \"\\\n",
    "        WITH inner_table AS(SELECT a.id, a.name, SUM(o.total_amt_usd) tot_spent \\\n",
    "                                   FROM orders o \\\n",
    "                                   JOIN accounts a \\\n",
    "                                   ON a.id = o.account_id \\\n",
    "                                   GROUP BY a.id, a.name \\\n",
    "                                   ORDER BY 3 DESC \\\n",
    "                                   LIMIT 1) \\\n",
    "        SELECT a.name, w.channel, COUNT(*) \\\n",
    "        FROM accounts a \\\n",
    "        JOIN web_events w \\\n",
    "        ON a.id = w.account_id \\\n",
    "        JOIN inner_table \\\n",
    "        ON a.id = inner_table.id \\\n",
    "        GROUP BY 1, 2 \\\n",
    "        ORDER BY 3 DESC;\"\n",
    "\n",
    "df = pd.read_sql(query, connection)\n",
    "df"
   ]
  },
  {
   "cell_type": "markdown",
   "id": "8ae16392",
   "metadata": {},
   "source": [
    "下面再做一些和with有关的练习"
   ]
  },
  {
   "cell_type": "markdown",
   "id": "777a6ebb",
   "metadata": {},
   "source": [
    "## 重复练习4. 提供total_amt_usd销售额最大的每个地区的sales_rep的名称。"
   ]
  },
  {
   "cell_type": "code",
   "execution_count": 63,
   "id": "5920cc7d",
   "metadata": {},
   "outputs": [
    {
     "data": {
      "text/html": [
       "<div>\n",
       "<style scoped>\n",
       "    .dataframe tbody tr th:only-of-type {\n",
       "        vertical-align: middle;\n",
       "    }\n",
       "\n",
       "    .dataframe tbody tr th {\n",
       "        vertical-align: top;\n",
       "    }\n",
       "\n",
       "    .dataframe thead th {\n",
       "        text-align: right;\n",
       "    }\n",
       "</style>\n",
       "<table border=\"1\" class=\"dataframe\">\n",
       "  <thead>\n",
       "    <tr style=\"text-align: right;\">\n",
       "      <th></th>\n",
       "      <th>name</th>\n",
       "      <th>channel</th>\n",
       "      <th>COUNT(*)</th>\n",
       "    </tr>\n",
       "  </thead>\n",
       "  <tbody>\n",
       "    <tr>\n",
       "      <th>0</th>\n",
       "      <td>EOG Resources</td>\n",
       "      <td>direct</td>\n",
       "      <td>44</td>\n",
       "    </tr>\n",
       "    <tr>\n",
       "      <th>1</th>\n",
       "      <td>EOG Resources</td>\n",
       "      <td>organic</td>\n",
       "      <td>13</td>\n",
       "    </tr>\n",
       "    <tr>\n",
       "      <th>2</th>\n",
       "      <td>EOG Resources</td>\n",
       "      <td>adwords</td>\n",
       "      <td>12</td>\n",
       "    </tr>\n",
       "    <tr>\n",
       "      <th>3</th>\n",
       "      <td>EOG Resources</td>\n",
       "      <td>facebook</td>\n",
       "      <td>11</td>\n",
       "    </tr>\n",
       "    <tr>\n",
       "      <th>4</th>\n",
       "      <td>EOG Resources</td>\n",
       "      <td>twitter</td>\n",
       "      <td>5</td>\n",
       "    </tr>\n",
       "    <tr>\n",
       "      <th>5</th>\n",
       "      <td>EOG Resources</td>\n",
       "      <td>banner</td>\n",
       "      <td>4</td>\n",
       "    </tr>\n",
       "  </tbody>\n",
       "</table>\n",
       "</div>"
      ],
      "text/plain": [
       "            name   channel  COUNT(*)\n",
       "0  EOG Resources    direct        44\n",
       "1  EOG Resources   organic        13\n",
       "2  EOG Resources   adwords        12\n",
       "3  EOG Resources  facebook        11\n",
       "4  EOG Resources   twitter         5\n",
       "5  EOG Resources    banner         4"
      ]
     },
     "execution_count": 63,
     "metadata": {},
     "output_type": "execute_result"
    }
   ],
   "source": [
    "query = \" \\\n",
    "    WITH t1 AS ( \\\n",
    "   SELECT a.id, a.name, SUM(o.total_amt_usd) tot_spent \\\n",
    "   FROM orders o \\\n",
    "   JOIN accounts a \\\n",
    "   ON a.id = o.account_id \\\n",
    "   GROUP BY a.id, a.name \\\n",
    "   ORDER BY 3 DESC \\\n",
    "   LIMIT 1) \\\n",
    "SELECT a.name, w.channel, COUNT(*) \\\n",
    "FROM accounts a \\\n",
    "JOIN web_events w \\\n",
    "ON a.id = w.account_id AND a.id =  (SELECT id FROM t1) \\\n",
    "GROUP BY 1, 2 \\\n",
    "ORDER BY 3 DESC; \"\n",
    "\n",
    "df = pd.read_sql(query, connection)\n",
    "df"
   ]
  },
  {
   "cell_type": "markdown",
   "id": "0d714b08",
   "metadata": {},
   "source": [
    "总结：\n",
    "\n",
    "这节课是编写SQL的更高级序列的第一堂课。可以说，子查询和cte的高级功能是在公司的分析角色中使用最广泛的。能够将问题分解成必要的表，并使用生成的表找到解决方案在实践中是非常有用的。\n",
    "\n",
    "如果你第一次没有得到这些问题的答案，不要害怕下次再来，再试一次。此外，你可以试着提出一些自己的问题，看看能否找到解决方案。\n",
    "\n",
    "本课程的其余部分可能是某些分析角色的关键，但您现在已经涵盖了可能在日常基础上使用的所有主要SQL主题。\n",
    "\n"
   ]
  },
  {
   "cell_type": "code",
   "execution_count": null,
   "id": "fbc235b0",
   "metadata": {},
   "outputs": [],
   "source": []
  },
  {
   "cell_type": "code",
   "execution_count": null,
   "id": "da4fd25a",
   "metadata": {},
   "outputs": [],
   "source": []
  }
 ],
 "metadata": {
  "kernelspec": {
   "display_name": "Python 3",
   "language": "python",
   "name": "python3"
  },
  "language_info": {
   "codemirror_mode": {
    "name": "ipython",
    "version": 3
   },
   "file_extension": ".py",
   "mimetype": "text/x-python",
   "name": "python",
   "nbconvert_exporter": "python",
   "pygments_lexer": "ipython3",
   "version": "3.8.6"
  }
 },
 "nbformat": 4,
 "nbformat_minor": 5
}
