{
 "cells": [
  {
   "cell_type": "markdown",
   "id": "0d1a1741",
   "metadata": {},
   "source": [
    "## SQL 数据清洗（Data cleaning）\n",
    "这篇文章主要讲一下数据清洗，相对于这个系列之前的内容，这章更偏向于实际应用了。有点激动了有没有。\n",
    "在这个章节中，我们将了解和学习一些技巧用来：\n",
    "\n",
    "*清理和重组混乱的数据。\n",
    "\n",
    "*将列转换为不同的数据类型。\n",
    "\n",
    "*操作null\n",
    "\n",
    "这些技巧可以帮助你从原始数据获取对分析有用的干净数据。\n"
   ]
  },
  {
   "cell_type": "code",
   "execution_count": null,
   "id": "07eb7246",
   "metadata": {},
   "outputs": [],
   "source": []
  },
  {
   "cell_type": "markdown",
   "id": "294c8105",
   "metadata": {},
   "source": [
    "## 1\n",
    "首先介绍3个新的语句\n",
    "\n",
    "* LEFT\n",
    "* RIGHT\n",
    "* LENGTH\n",
    "\n",
    "LEFT从指定列的开头(或从左边)开始为每一行提取指定数量的字符。正如您在这里看到的，可以使用LEFT(phone_number, 3)提取电话号码的前三位数字。\n",
    "\n",
    "RIGHT从末尾(或从右)开始为指定列中的每一行提取指定数量的字符。正如您在这里看到的，您可以使用RIGHT(phone_number, 8)提取电话号码的最后8位数字。\n",
    "\n",
    "LENGTH提供指定列的每一行的字符数。在这里，您看到我们可以使用它来获得每个电话号码的长度为length (phone_number)。\n"
   ]
  },
  {
   "cell_type": "markdown",
   "id": "81c0ff84",
   "metadata": {},
   "source": [
    "## 练习 1. 计算一下accounts表中有多少网站类型\n",
    "\n",
    "要回答这个问题，你需要找到accounts 表中每个account的website的domain的类型。就是我们常见的.com, .org 等等"
   ]
  },
  {
   "cell_type": "code",
   "execution_count": 20,
   "id": "9cc3cfe1",
   "metadata": {},
   "outputs": [],
   "source": [
    "import pandas as pd\n",
    "import sqlite3 as sql\n",
    "\n",
    "database = 'parchposey.db'\n",
    "connection = sql.connect(database)"
   ]
  },
  {
   "cell_type": "code",
   "execution_count": 22,
   "id": "8ed1cc9a",
   "metadata": {},
   "outputs": [
    {
     "name": "stdout",
     "output_type": "stream",
     "text": [
      " SELECT RIGHT(website, 3) AS domain, COUNT(*) num_companies             FROM accounts             GROUP BY domain             ORDER BY num_companies DESC;\n"
     ]
    }
   ],
   "source": [
    "query = \" SELECT RIGHT(website, 3) AS domain, COUNT(*) num_companies \\\n",
    "            FROM accounts \\\n",
    "            GROUP BY domain \\\n",
    "            ORDER BY num_companies DESC;\"\n",
    "\n",
    "print(query)"
   ]
  },
  {
   "cell_type": "code",
   "execution_count": 26,
   "id": "199d5662",
   "metadata": {},
   "outputs": [
    {
     "data": {
      "text/html": [
       "<div>\n",
       "<style scoped>\n",
       "    .dataframe tbody tr th:only-of-type {\n",
       "        vertical-align: middle;\n",
       "    }\n",
       "\n",
       "    .dataframe tbody tr th {\n",
       "        vertical-align: top;\n",
       "    }\n",
       "\n",
       "    .dataframe thead th {\n",
       "        text-align: right;\n",
       "    }\n",
       "</style>\n",
       "<table border=\"1\" class=\"dataframe\">\n",
       "  <thead>\n",
       "    <tr style=\"text-align: right;\">\n",
       "      <th></th>\n",
       "      <th>domain</th>\n",
       "      <th>num_companies</th>\n",
       "    </tr>\n",
       "  </thead>\n",
       "  <tbody>\n",
       "    <tr>\n",
       "      <th>0</th>\n",
       "      <td>www.yum.com</td>\n",
       "      <td>1</td>\n",
       "    </tr>\n",
       "    <tr>\n",
       "      <th>1</th>\n",
       "      <td>www.xerox.com</td>\n",
       "      <td>1</td>\n",
       "    </tr>\n",
       "    <tr>\n",
       "      <th>2</th>\n",
       "      <td>www.xcelenergy.com</td>\n",
       "      <td>1</td>\n",
       "    </tr>\n",
       "    <tr>\n",
       "      <th>3</th>\n",
       "      <td>www.wnr.com</td>\n",
       "      <td>1</td>\n",
       "    </tr>\n",
       "    <tr>\n",
       "      <th>4</th>\n",
       "      <td>www.wm.com</td>\n",
       "      <td>1</td>\n",
       "    </tr>\n",
       "    <tr>\n",
       "      <th>...</th>\n",
       "      <td>...</td>\n",
       "      <td>...</td>\n",
       "    </tr>\n",
       "    <tr>\n",
       "      <th>346</th>\n",
       "      <td>www.abbott.com</td>\n",
       "      <td>1</td>\n",
       "    </tr>\n",
       "    <tr>\n",
       "      <th>347</th>\n",
       "      <td>www.aa.com</td>\n",
       "      <td>1</td>\n",
       "    </tr>\n",
       "    <tr>\n",
       "      <th>348</th>\n",
       "      <td>www.3m.com</td>\n",
       "      <td>1</td>\n",
       "    </tr>\n",
       "    <tr>\n",
       "      <th>349</th>\n",
       "      <td>www.21cf.com</td>\n",
       "      <td>1</td>\n",
       "    </tr>\n",
       "    <tr>\n",
       "      <th>350</th>\n",
       "      <td>corporate.murphyusa.com</td>\n",
       "      <td>1</td>\n",
       "    </tr>\n",
       "  </tbody>\n",
       "</table>\n",
       "<p>351 rows × 2 columns</p>\n",
       "</div>"
      ],
      "text/plain": [
       "                      domain  num_companies\n",
       "0                www.yum.com              1\n",
       "1              www.xerox.com              1\n",
       "2         www.xcelenergy.com              1\n",
       "3                www.wnr.com              1\n",
       "4                 www.wm.com              1\n",
       "..                       ...            ...\n",
       "346           www.abbott.com              1\n",
       "347               www.aa.com              1\n",
       "348               www.3m.com              1\n",
       "349             www.21cf.com              1\n",
       "350  corporate.murphyusa.com              1\n",
       "\n",
       "[351 rows x 2 columns]"
      ]
     },
     "execution_count": 26,
     "metadata": {},
     "output_type": "execute_result"
    }
   ],
   "source": [
    "query = \" SELECT RIGHT(website AS domain,\\\n",
    "                 COUNT(*) AS num_companies \\\n",
    "          FROM accounts \\\n",
    "          GROUP BY domain \\\n",
    "          ORDER BY num_companies DESC;\"\n",
    "\n",
    "df = pd.read_sql(query, connection)\n",
    "df"
   ]
  },
  {
   "cell_type": "code",
   "execution_count": null,
   "id": "23e1b9bb",
   "metadata": {},
   "outputs": [],
   "source": []
  },
  {
   "cell_type": "markdown",
   "id": "288c7256",
   "metadata": {},
   "source": [
    "## 2\n",
    "之后是常用于字符串操作的另外4个语句\n",
    "\n",
    "* POSITION\n",
    "* STRPOS\n",
    "* SUBSTR\n",
    "* LOWER\n",
    "* UPPER\n",
    "\n",
    "POSITION接受一个字符和一个列，并为每一行提供字符所在位置的索引。在SQL中，第一个位置的索引是1。如果您来自另一种编程语言，许多人从0开始索引。在这里，您可以将逗号的索引作为POSITION('，' IN city_state)提取出来。\n",
    "\n",
    "STRPOS提供了与POSITION相同的结果，但是实现这些结果的语法略有不同，如下所示:STRPOS(city_state， '，')。\n",
    "\n",
    "注意，POSITION和STRPOS都是区分大小写的，所以查找A和查找A是不同的。\n",
    "\n",
    "SUBSTR(列名, 开始位置, 截取几个字符) 可以在字符串的任意位置截取任意长度的字符\n",
    "例如我想获得Date:‘24/03/1994’的年份，那我就可以使用如下语句： \n",
    "SUBSTR（Date, 7, 4）\n",
    "\n",
    "因此，如果您希望提取索引，而不管字母的大小写，您可能希望使用LOWER或UPPER使所有字符小写或大写。"
   ]
  },
  {
   "cell_type": "markdown",
   "id": "9f3e666f",
   "metadata": {},
   "source": [
    "## 3\n",
    "之后是常用于字符串拼接的两个语句\n",
    "\n",
    "* CONCAT\n",
    "* Piping ||\n",
    "\n",
    "这两种方法都可以跨行组合字符串，例如\n",
    "\n",
    "CONCAT(first_name， ' '， last_name)或使用管道作为first_name || ' ' || last_name。"
   ]
  },
  {
   "cell_type": "markdown",
   "id": "e4518ead",
   "metadata": {},
   "source": [
    "## 4\n",
    "\n",
    "之后是常用于操作时间的三个语句\n",
    "\n",
    "* TO_DATE\n",
    "* CAST\n",
    "* Casting with ::\n",
    "\n",
    "在这里，DATE_PART('month'， TO_DATE(month， 'month'))将一个月的名称更改为与该特定的月份相关联的数字。\n",
    "\n",
    "然后可以使用CAST将字符串更改为日期。CAST实际上对更改许多列类型很有用。通常，您可能会像这里看到的那样，使用CAST(date_column as date)将字符串更改为日期。但是，您可能希望根据数据类型对列进行其他更改。你可以在这里看到其他的例子。\n",
    "\n"
   ]
  },
  {
   "cell_type": "markdown",
   "id": "fb966de3",
   "metadata": {},
   "source": [
    "## 5\n",
    "\n",
    "\n",
    "针对NULLs 也有一个相应的处理函数 COALESCE。\n",
    "\n",
    "之前我们有提到过很多聚合函数在计算的过程中是不会考虑NULL的，这就导致当表中有NULLS时这些聚合函数的结果某种程度上不是十分的准确，COALESCE 可以将NULLS转换为特定的数据进而使得聚合函数的结果可以更加的准确。\n",
    "\n",
    "下面通过一个练习来了解一下 COALESCE 应该如何使用。"
   ]
  },
  {
   "cell_type": "markdown",
   "id": "eb82e789",
   "metadata": {},
   "source": [
    "### step 1\n",
    "orders 和 accounts 联合表中有缺失的数据，首先同过查询来找到这条数据。"
   ]
  },
  {
   "cell_type": "code",
   "execution_count": 6,
   "id": "4df4e936",
   "metadata": {},
   "outputs": [
    {
     "data": {
      "text/html": [
       "<div>\n",
       "<style scoped>\n",
       "    .dataframe tbody tr th:only-of-type {\n",
       "        vertical-align: middle;\n",
       "    }\n",
       "\n",
       "    .dataframe tbody tr th {\n",
       "        vertical-align: top;\n",
       "    }\n",
       "\n",
       "    .dataframe thead th {\n",
       "        text-align: right;\n",
       "    }\n",
       "</style>\n",
       "<table border=\"1\" class=\"dataframe\">\n",
       "  <thead>\n",
       "    <tr style=\"text-align: right;\">\n",
       "      <th></th>\n",
       "      <th>id</th>\n",
       "      <th>name</th>\n",
       "      <th>website</th>\n",
       "      <th>lat</th>\n",
       "      <th>long</th>\n",
       "      <th>primary_poc</th>\n",
       "      <th>sales_rep_id</th>\n",
       "      <th>id</th>\n",
       "      <th>account_id</th>\n",
       "      <th>occurred_at</th>\n",
       "      <th>standard_qty</th>\n",
       "      <th>gloss_qty</th>\n",
       "      <th>poster_qty</th>\n",
       "      <th>total</th>\n",
       "      <th>standard_amt_usd</th>\n",
       "      <th>gloss_amt_usd</th>\n",
       "      <th>poster_amt_usd</th>\n",
       "      <th>total_amt_usd</th>\n",
       "    </tr>\n",
       "  </thead>\n",
       "  <tbody>\n",
       "    <tr>\n",
       "      <th>0</th>\n",
       "      <td>1731</td>\n",
       "      <td>Goldman Sachs Group</td>\n",
       "      <td>www.gs.com</td>\n",
       "      <td>40.757444</td>\n",
       "      <td>-73.967309</td>\n",
       "      <td>Loris Manfredi</td>\n",
       "      <td>321690</td>\n",
       "      <td>None</td>\n",
       "      <td>None</td>\n",
       "      <td>None</td>\n",
       "      <td>None</td>\n",
       "      <td>None</td>\n",
       "      <td>None</td>\n",
       "      <td>None</td>\n",
       "      <td>None</td>\n",
       "      <td>None</td>\n",
       "      <td>None</td>\n",
       "      <td>None</td>\n",
       "    </tr>\n",
       "  </tbody>\n",
       "</table>\n",
       "</div>"
      ],
      "text/plain": [
       "     id                 name     website        lat       long  \\\n",
       "0  1731  Goldman Sachs Group  www.gs.com  40.757444 -73.967309   \n",
       "\n",
       "      primary_poc  sales_rep_id    id account_id occurred_at standard_qty  \\\n",
       "0  Loris Manfredi        321690  None       None        None         None   \n",
       "\n",
       "  gloss_qty poster_qty total standard_amt_usd gloss_amt_usd poster_amt_usd  \\\n",
       "0      None       None  None             None          None           None   \n",
       "\n",
       "  total_amt_usd  \n",
       "0          None  "
      ]
     },
     "execution_count": 6,
     "metadata": {},
     "output_type": "execute_result"
    }
   ],
   "source": [
    "query = \" SELECT * \\\n",
    "    FROM accounts a \\\n",
    "    LEFT JOIN orders o \\\n",
    "    ON a.id = o.account_id \\\n",
    "    WHERE o.total IS NULL;\"\n",
    "\n",
    "df = pd.read_sql(query, connection)\n",
    "df"
   ]
  },
  {
   "cell_type": "markdown",
   "id": "6484484f",
   "metadata": {},
   "source": [
    "这里我肯可以发现orders和accounts的表中，有一行数据是不完整的"
   ]
  },
  {
   "cell_type": "markdown",
   "id": "0fc9c38d",
   "metadata": {},
   "source": [
    "### step 2\n",
    "\n",
    "基本语法 COALESCE(a, b) AS c, 其中a是一列数据，b可以是一列数据或者是一个固定的值，如果a中的数据是NULL的话，就会被替换成为b \n",
    "\n",
    "首先通过COALESCE来使用accouts.id 来填充orders.id中的NULLs\n",
    "\n",
    "COALESCE(o.id, a.id) filled_id\n",
    "\n",
    "其次使用accounts.id来填充orders表的account_id列\n",
    "\n",
    "COALESCE(o.account_id, a.id) account_id\n"
   ]
  },
  {
   "cell_type": "code",
   "execution_count": 14,
   "id": "ace25bff",
   "metadata": {},
   "outputs": [
    {
     "data": {
      "text/html": [
       "<div>\n",
       "<style scoped>\n",
       "    .dataframe tbody tr th:only-of-type {\n",
       "        vertical-align: middle;\n",
       "    }\n",
       "\n",
       "    .dataframe tbody tr th {\n",
       "        vertical-align: top;\n",
       "    }\n",
       "\n",
       "    .dataframe thead th {\n",
       "        text-align: right;\n",
       "    }\n",
       "</style>\n",
       "<table border=\"1\" class=\"dataframe\">\n",
       "  <thead>\n",
       "    <tr style=\"text-align: right;\">\n",
       "      <th></th>\n",
       "      <th>filled_id</th>\n",
       "      <th>name</th>\n",
       "      <th>website</th>\n",
       "      <th>lat</th>\n",
       "      <th>long</th>\n",
       "      <th>primary_poc</th>\n",
       "      <th>sales_rep_id</th>\n",
       "      <th>account_id</th>\n",
       "      <th>occurred_at</th>\n",
       "      <th>standard_qty</th>\n",
       "      <th>gloss_qty</th>\n",
       "      <th>poster_qty</th>\n",
       "      <th>total</th>\n",
       "      <th>standard_amt_usd</th>\n",
       "      <th>gloss_amt_usd</th>\n",
       "      <th>poster_amt_usd</th>\n",
       "      <th>total_amt_usd</th>\n",
       "    </tr>\n",
       "  </thead>\n",
       "  <tbody>\n",
       "    <tr>\n",
       "      <th>0</th>\n",
       "      <td>1731</td>\n",
       "      <td>Goldman Sachs Group</td>\n",
       "      <td>www.gs.com</td>\n",
       "      <td>40.757444</td>\n",
       "      <td>-73.967309</td>\n",
       "      <td>Loris Manfredi</td>\n",
       "      <td>321690</td>\n",
       "      <td>1731</td>\n",
       "      <td>None</td>\n",
       "      <td>None</td>\n",
       "      <td>None</td>\n",
       "      <td>None</td>\n",
       "      <td>None</td>\n",
       "      <td>None</td>\n",
       "      <td>None</td>\n",
       "      <td>None</td>\n",
       "      <td>None</td>\n",
       "    </tr>\n",
       "  </tbody>\n",
       "</table>\n",
       "</div>"
      ],
      "text/plain": [
       "   filled_id                 name     website        lat       long  \\\n",
       "0       1731  Goldman Sachs Group  www.gs.com  40.757444 -73.967309   \n",
       "\n",
       "      primary_poc  sales_rep_id  account_id occurred_at standard_qty  \\\n",
       "0  Loris Manfredi        321690        1731        None         None   \n",
       "\n",
       "  gloss_qty poster_qty total standard_amt_usd gloss_amt_usd poster_amt_usd  \\\n",
       "0      None       None  None             None          None           None   \n",
       "\n",
       "  total_amt_usd  \n",
       "0          None  "
      ]
     },
     "execution_count": 14,
     "metadata": {},
     "output_type": "execute_result"
    }
   ],
   "source": [
    "query = \" SELECT COALESCE(o.id, a.id) filled_id, a.name, a.website, a.lat, a.long, a.primary_poc, a.sales_rep_id, COALESCE(o.account_id, a.id) account_id, o.occurred_at, o.standard_qty, o.gloss_qty, o.poster_qty, o.total, o.standard_amt_usd, o.gloss_amt_usd, o.poster_amt_usd, o.total_amt_usd \\\n",
    "            FROM accounts a \\\n",
    "            LEFT JOIN orders o \\\n",
    "            ON a.id = o.account_id \\\n",
    "            WHERE o.total IS NULL; \"\n",
    "\n",
    "df = pd.read_sql(query, connection)\n",
    "df"
   ]
  },
  {
   "cell_type": "markdown",
   "id": "1a673bbd",
   "metadata": {},
   "source": [
    "### Step 3\n",
    "\n",
    "将空白的qty和usd的列用0来填充\n"
   ]
  },
  {
   "cell_type": "code",
   "execution_count": 13,
   "id": "b0f8c0e0",
   "metadata": {},
   "outputs": [
    {
     "data": {
      "text/html": [
       "<div>\n",
       "<style scoped>\n",
       "    .dataframe tbody tr th:only-of-type {\n",
       "        vertical-align: middle;\n",
       "    }\n",
       "\n",
       "    .dataframe tbody tr th {\n",
       "        vertical-align: top;\n",
       "    }\n",
       "\n",
       "    .dataframe thead th {\n",
       "        text-align: right;\n",
       "    }\n",
       "</style>\n",
       "<table border=\"1\" class=\"dataframe\">\n",
       "  <thead>\n",
       "    <tr style=\"text-align: right;\">\n",
       "      <th></th>\n",
       "      <th>filled_id</th>\n",
       "      <th>name</th>\n",
       "      <th>website</th>\n",
       "      <th>lat</th>\n",
       "      <th>long</th>\n",
       "      <th>primary_poc</th>\n",
       "      <th>sales_rep_id</th>\n",
       "      <th>account_id</th>\n",
       "      <th>occurred_at</th>\n",
       "      <th>standard_qty</th>\n",
       "      <th>gloss_qty</th>\n",
       "      <th>poster_qty</th>\n",
       "      <th>total</th>\n",
       "      <th>standard_amt_usd</th>\n",
       "      <th>gloss_amt_usd</th>\n",
       "      <th>poster_amt_usd</th>\n",
       "      <th>total_amt_usd</th>\n",
       "    </tr>\n",
       "  </thead>\n",
       "  <tbody>\n",
       "    <tr>\n",
       "      <th>0</th>\n",
       "      <td>1731</td>\n",
       "      <td>Goldman Sachs Group</td>\n",
       "      <td>www.gs.com</td>\n",
       "      <td>40.757444</td>\n",
       "      <td>-73.967309</td>\n",
       "      <td>Loris Manfredi</td>\n",
       "      <td>321690</td>\n",
       "      <td>1731</td>\n",
       "      <td>None</td>\n",
       "      <td>0</td>\n",
       "      <td>0</td>\n",
       "      <td>0</td>\n",
       "      <td>0</td>\n",
       "      <td>0</td>\n",
       "      <td>0</td>\n",
       "      <td>0</td>\n",
       "      <td>0</td>\n",
       "    </tr>\n",
       "  </tbody>\n",
       "</table>\n",
       "</div>"
      ],
      "text/plain": [
       "   filled_id                 name     website        lat       long  \\\n",
       "0       1731  Goldman Sachs Group  www.gs.com  40.757444 -73.967309   \n",
       "\n",
       "      primary_poc  sales_rep_id  account_id occurred_at  standard_qty  \\\n",
       "0  Loris Manfredi        321690        1731        None             0   \n",
       "\n",
       "   gloss_qty  poster_qty  total  standard_amt_usd  gloss_amt_usd  \\\n",
       "0          0           0      0                 0              0   \n",
       "\n",
       "   poster_amt_usd  total_amt_usd  \n",
       "0               0              0  "
      ]
     },
     "execution_count": 13,
     "metadata": {},
     "output_type": "execute_result"
    }
   ],
   "source": [
    "query = \" SELECT COALESCE(o.id, a.id) filled_id, a.name, a.website, a.lat, a.long, a.primary_poc, a.sales_rep_id, COALESCE(o.account_id, a.id) account_id, o.occurred_at, COALESCE(o.standard_qty, 0) standard_qty, COALESCE(o.gloss_qty,0) gloss_qty, COALESCE(o.poster_qty,0) poster_qty, COALESCE(o.total,0) total, COALESCE(o.standard_amt_usd,0) standard_amt_usd, COALESCE(o.gloss_amt_usd,0) gloss_amt_usd, COALESCE(o.poster_amt_usd,0) poster_amt_usd, COALESCE(o.total_amt_usd,0) total_amt_usd \\\n",
    "            FROM accounts a \\\n",
    "            LEFT JOIN orders o \\\n",
    "            ON a.id = o.account_id \\\n",
    "            WHERE o.total IS NULL; \"\n",
    "\n",
    "df = pd.read_sql(query, connection)\n",
    "df"
   ]
  },
  {
   "cell_type": "markdown",
   "id": "2eb32b90",
   "metadata": {},
   "source": [
    "至此我们就已经简单通过使用COALESCE处理了这行空数据"
   ]
  },
  {
   "cell_type": "markdown",
   "id": "2f7ec566",
   "metadata": {},
   "source": [
    "## 总结\n",
    "现在有许多工具可以帮助清理SQL中的混乱数据。手动清理数据非常繁琐，但是现在您可以使用新的技能大规模清理数据。\n",
    "\n",
    "对于任何数据清理功能的提醒，本课中的概念都根据您所学的功能进行标记。如果你一开始对这些功能感到不舒服，那是正常的——这些需要一些时间来适应。不要害怕通过第二遍阅读材料来提高你的技能!\n",
    "\n",
    "记住所有这些功能并不是必要的，但您确实需要能够遵循文档，并从解决以前的问题中学习如何解决新问题。\n"
   ]
  },
  {
   "cell_type": "code",
   "execution_count": null,
   "id": "8f788a03",
   "metadata": {},
   "outputs": [],
   "source": []
  },
  {
   "cell_type": "code",
   "execution_count": null,
   "id": "a4993379",
   "metadata": {},
   "outputs": [],
   "source": []
  },
  {
   "cell_type": "code",
   "execution_count": null,
   "id": "e0b0f4bd",
   "metadata": {},
   "outputs": [],
   "source": []
  },
  {
   "cell_type": "code",
   "execution_count": null,
   "id": "d786311a",
   "metadata": {},
   "outputs": [],
   "source": []
  },
  {
   "cell_type": "code",
   "execution_count": null,
   "id": "8c45575e",
   "metadata": {},
   "outputs": [],
   "source": []
  },
  {
   "cell_type": "code",
   "execution_count": null,
   "id": "e93223b8",
   "metadata": {},
   "outputs": [],
   "source": []
  },
  {
   "cell_type": "code",
   "execution_count": null,
   "id": "bb478190",
   "metadata": {},
   "outputs": [],
   "source": []
  },
  {
   "cell_type": "code",
   "execution_count": null,
   "id": "aca96156",
   "metadata": {},
   "outputs": [],
   "source": []
  },
  {
   "cell_type": "code",
   "execution_count": null,
   "id": "878f88b6",
   "metadata": {},
   "outputs": [],
   "source": []
  },
  {
   "cell_type": "code",
   "execution_count": null,
   "id": "139333d7",
   "metadata": {},
   "outputs": [],
   "source": []
  },
  {
   "cell_type": "code",
   "execution_count": null,
   "id": "919794cb",
   "metadata": {},
   "outputs": [],
   "source": []
  },
  {
   "cell_type": "code",
   "execution_count": null,
   "id": "0b0332d0",
   "metadata": {},
   "outputs": [],
   "source": []
  },
  {
   "cell_type": "code",
   "execution_count": null,
   "id": "7491875f",
   "metadata": {},
   "outputs": [],
   "source": []
  },
  {
   "cell_type": "code",
   "execution_count": null,
   "id": "fc5b5a4c",
   "metadata": {},
   "outputs": [],
   "source": []
  },
  {
   "cell_type": "code",
   "execution_count": null,
   "id": "1d5efd4b",
   "metadata": {},
   "outputs": [],
   "source": []
  },
  {
   "cell_type": "code",
   "execution_count": null,
   "id": "def3c045",
   "metadata": {},
   "outputs": [],
   "source": []
  },
  {
   "cell_type": "code",
   "execution_count": null,
   "id": "71e0c93d",
   "metadata": {},
   "outputs": [],
   "source": []
  },
  {
   "cell_type": "code",
   "execution_count": null,
   "id": "483d2750",
   "metadata": {},
   "outputs": [],
   "source": []
  },
  {
   "cell_type": "code",
   "execution_count": null,
   "id": "33d69ce7",
   "metadata": {},
   "outputs": [],
   "source": []
  },
  {
   "cell_type": "code",
   "execution_count": null,
   "id": "6ea1671f",
   "metadata": {},
   "outputs": [],
   "source": []
  },
  {
   "cell_type": "code",
   "execution_count": null,
   "id": "c6491785",
   "metadata": {},
   "outputs": [],
   "source": []
  },
  {
   "cell_type": "code",
   "execution_count": null,
   "id": "3ae97c9a",
   "metadata": {},
   "outputs": [],
   "source": []
  }
 ],
 "metadata": {
  "kernelspec": {
   "display_name": "Python 3",
   "language": "python",
   "name": "python3"
  },
  "language_info": {
   "codemirror_mode": {
    "name": "ipython",
    "version": 3
   },
   "file_extension": ".py",
   "mimetype": "text/x-python",
   "name": "python",
   "nbconvert_exporter": "python",
   "pygments_lexer": "ipython3",
   "version": "3.8.6"
  }
 },
 "nbformat": 4,
 "nbformat_minor": 5
}
