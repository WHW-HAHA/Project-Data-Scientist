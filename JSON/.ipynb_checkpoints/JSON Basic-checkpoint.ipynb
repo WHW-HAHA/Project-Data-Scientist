{
 "cells": [
  {
   "cell_type": "markdown",
   "id": "358ad3cd",
   "metadata": {},
   "source": [
    "## JSON\n",
    "\n",
    "JSON (JavaScript Object Notation 的缩写) 是一种数据交换格式，最常用于客户端-服务器通信，当然你也可以将它保存到本地，所以也可以用来作为配置文件，JSON很想Python中的字典，这篇文章中我们就来学习一下如何使用Python来操作JSON\n",
    "\n",
    "本文将由由浅入深的9个例子构成"
   ]
  },
  {
   "cell_type": "markdown",
   "id": "80a820ce",
   "metadata": {},
   "source": [
    "## 01 将字典转换为JSON"
   ]
  },
  {
   "cell_type": "code",
   "execution_count": 3,
   "id": "f6b4b19f",
   "metadata": {},
   "outputs": [],
   "source": [
    "import json"
   ]
  },
  {
   "cell_type": "code",
   "execution_count": 4,
   "id": "a08bc154",
   "metadata": {},
   "outputs": [
    {
     "data": {
      "text/plain": [
       "{'key1': 'value1', 'key2': 'value2'}"
      ]
     },
     "execution_count": 4,
     "metadata": {},
     "output_type": "execute_result"
    }
   ],
   "source": [
    "data = {'key1': 'value1', 'key2': 'value2'}\n",
    "data"
   ]
  },
  {
   "cell_type": "code",
   "execution_count": 5,
   "id": "017aa8a9",
   "metadata": {},
   "outputs": [
    {
     "name": "stdout",
     "output_type": "stream",
     "text": [
      "{\"key1\": \"value1\", \"key2\": \"value2\"}\n"
     ]
    }
   ],
   "source": [
    "# 首先介绍json库的dump方法，用来将Python对象转化为Json对象\n",
    "json_Data = json.dumps(data)\n",
    "print(json_Data)"
   ]
  },
  {
   "cell_type": "markdown",
   "id": "6d4b231c",
   "metadata": {},
   "source": [
    "## 02 访问JSON对象中的键"
   ]
  },
  {
   "cell_type": "code",
   "execution_count": 6,
   "id": "950d6cf9",
   "metadata": {},
   "outputs": [
    {
     "name": "stdout",
     "output_type": "stream",
     "text": [
      "value2\n"
     ]
    }
   ],
   "source": [
    "sampleJson = \"\"\"{\"key1\": \"value1\", \"key2\": \"value2\"}\"\"\"\n",
    "\n",
    "# 我们用到了json库的loads方法\n",
    "data = json.loads(sampleJson)\n",
    "print(data['key2'])"
   ]
  },
  {
   "cell_type": "markdown",
   "id": "9b1c67e6",
   "metadata": {},
   "source": [
    "## 03 将Json格式化后输出"
   ]
  },
  {
   "cell_type": "code",
   "execution_count": 10,
   "id": "d4fcbf84",
   "metadata": {},
   "outputs": [
    {
     "name": "stdout",
     "output_type": "stream",
     "text": [
      "{\n",
      "  \"key1\"=\"value2\",\n",
      "  \"key2\"=\"value2\",\n",
      "  \"key3\"=\"value3\"\n",
      "}\n"
     ]
    }
   ],
   "source": [
    "sampleJson = {\"key1\" : \"value2\", \"key2\" : \"value2\", \"key3\" : \"value3\"}\n",
    "\n",
    "#dumps中可以声明 格式化后Json对象的缩进，分隔符\n",
    "prettyPrintJson = json.dumps(sampleJson, indent =2, separators=(',', '='))\n",
    "print(prettyPrintJson)"
   ]
  },
  {
   "cell_type": "markdown",
   "id": "71e7b72f",
   "metadata": {},
   "source": [
    "## 04 将Json 按照 key 进行排序后保存到输出文件中"
   ]
  },
  {
   "cell_type": "code",
   "execution_count": 12,
   "id": "db6efa1f",
   "metadata": {},
   "outputs": [
    {
     "name": "stdout",
     "output_type": "stream",
     "text": [
      "Done writting JSON data into a file\n"
     ]
    }
   ],
   "source": [
    "sampleJson = {'id': 1, 'name': 'Wang', 'age': 29 }\n",
    "with open('sampleJson.json', 'w') as write_file:\n",
    "    json.dump(sampleJson, write_file, indent = 4, sort_keys=True)\n",
    "print('Done writting JSON data into a file')"
   ]
  },
  {
   "cell_type": "markdown",
   "id": "54fbac91",
   "metadata": {},
   "source": [
    "## 05 访问 Json 的嵌套对象，定输出 salary 的值"
   ]
  },
  {
   "cell_type": "code",
   "execution_count": 14,
   "id": "98f667f5",
   "metadata": {},
   "outputs": [
    {
     "name": "stdout",
     "output_type": "stream",
     "text": [
      "7000\n"
     ]
    }
   ],
   "source": [
    "sampleJson = \"\"\"{\n",
    "    \"company\":{\n",
    "        \"employee\":{\n",
    "            \"name\": \"emma\",\n",
    "            \"payable\": {\n",
    "                \"salary\": 7000,\n",
    "                \"bonus\": 800\n",
    "            }\n",
    "        }\n",
    "    }\n",
    "}\"\"\"\n",
    "\n",
    "data = json.loads(sampleJson)\n",
    "\n",
    "#通过方括号[]来遍历节点和节点中的key\n",
    "print(data['company']['employee']['payable']['salary'])"
   ]
  },
  {
   "cell_type": "markdown",
   "id": "b7255fa1",
   "metadata": {},
   "source": [
    "## 06 将类对象转化为Json"
   ]
  },
  {
   "cell_type": "code",
   "execution_count": 17,
   "id": "65e67738",
   "metadata": {},
   "outputs": [
    {
     "data": {
      "text/plain": [
       "<__main__.Vehicle at 0x23aa9cb67c0>"
      ]
     },
     "execution_count": 17,
     "metadata": {},
     "output_type": "execute_result"
    }
   ],
   "source": [
    "class Vehicle:\n",
    "    def __init__(self, name, engine, price):\n",
    "        self.name = name\n",
    "        self.engine = engine\n",
    "        self.price = price\n",
    "        \n",
    "vehicle = Vehicle(name = 'Toyota Rav4', engine =  '2.5L', price = '32000')\n",
    "vehicle"
   ]
  },
  {
   "cell_type": "code",
   "execution_count": 18,
   "id": "7bc8edd8",
   "metadata": {},
   "outputs": [
    {
     "name": "stdout",
     "output_type": "stream",
     "text": [
      "Encode Vehicle Object into JSON\n",
      "{\n",
      "    \"name\": \"Toyota Rav4\",\n",
      "    \"engine\": \"2.5L\",\n",
      "    \"price\": \"32000\"\n",
      "}\n"
     ]
    }
   ],
   "source": [
    "from json import JSONEncoder\n",
    "\n",
    "class VehicleEncoder(JSONEncoder):\n",
    "    def default(self, o):\n",
    "        return o.__dict__\n",
    "    \n",
    "print(\"Encode Vehicle Object into JSON\")\n",
    "vehicleJson = json.dumps(vehicle, indent = 4, cls = VehicleEncoder)\n",
    "print(vehicleJson)"
   ]
  },
  {
   "cell_type": "markdown",
   "id": "77723477",
   "metadata": {},
   "source": [
    "## 07 将 Json 转化为类对象"
   ]
  },
  {
   "cell_type": "code",
   "execution_count": 19,
   "id": "1e2e241f",
   "metadata": {},
   "outputs": [
    {
     "name": "stdout",
     "output_type": "stream",
     "text": [
      "Type of decoded object from JSON Data\n",
      "<class '__main__.Vehicle'>\n",
      "Vehicle Details\n",
      "Toyota Rav4 2.5L 32000\n"
     ]
    }
   ],
   "source": [
    "class Vehicle:\n",
    "    def __init__(self, name, engine, price):\n",
    "        self.name = name\n",
    "        self.engine = engine\n",
    "        self.price = price\n",
    "        \n",
    "def vehicleDecoder(obj):\n",
    "    return Vehicle(obj['name'], obj['engine'], obj['price'])\n",
    "\n",
    "vehicleObj = json.loads('{ \"name\": \"Toyota Rav4\", \"engine\": \"2.5L\", \"price\": 32000 }',\n",
    "           object_hook=vehicleDecoder)\n",
    "\n",
    "print(\"Type of decoded object from JSON Data\")\n",
    "print(type(vehicleObj))\n",
    "print(\"Vehicle Details\")\n",
    "print(vehicleObj.name, vehicleObj.engine, vehicleObj.price)"
   ]
  },
  {
   "cell_type": "markdown",
   "id": "2184cad6",
   "metadata": {},
   "source": [
    "## 08 判断 Json 格式是否正确"
   ]
  },
  {
   "cell_type": "code",
   "execution_count": 22,
   "id": "2a0f3b0e",
   "metadata": {},
   "outputs": [
    {
     "name": "stdout",
     "output_type": "stream",
     "text": [
      "Given JSON string is Valid False\n"
     ]
    }
   ],
   "source": [
    "import json\n",
    "\n",
    "def validateJSON(jsonData):\n",
    "    try:\n",
    "        json.loads(jsonData)\n",
    "    except ValueError as err:\n",
    "        return False\n",
    "    return True\n",
    "\n",
    "InvalidJsonData = \"\"\"{ \"company\":{\n",
    "                        \"employee\":{ \n",
    "                            \"name\":\"emma\",\n",
    "                            \"payble\":{ \n",
    "                                \"salary\":7000 # a ',' is missing here\n",
    "                                \"bonus\":800} } } }\"\"\"\n",
    "isValid = validateJSON(InvalidJsonData)\n",
    "\n",
    "print(\"Given JSON string is Valid\", isValid)"
   ]
  },
  {
   "cell_type": "markdown",
   "id": "bbe4e878",
   "metadata": {},
   "source": [
    "## 09 获取 Json 中 key 为 name 的所有值"
   ]
  },
  {
   "cell_type": "code",
   "execution_count": null,
   "id": "5d9d7801",
   "metadata": {},
   "outputs": [],
   "source": []
  },
  {
   "cell_type": "code",
   "execution_count": null,
   "id": "22769b79",
   "metadata": {},
   "outputs": [],
   "source": []
  },
  {
   "cell_type": "code",
   "execution_count": null,
   "id": "f2f338c3",
   "metadata": {},
   "outputs": [],
   "source": []
  },
  {
   "cell_type": "code",
   "execution_count": null,
   "id": "45b97588",
   "metadata": {},
   "outputs": [],
   "source": []
  },
  {
   "cell_type": "code",
   "execution_count": null,
   "id": "9adac880",
   "metadata": {},
   "outputs": [],
   "source": []
  },
  {
   "cell_type": "code",
   "execution_count": null,
   "id": "d507df19",
   "metadata": {},
   "outputs": [],
   "source": []
  },
  {
   "cell_type": "code",
   "execution_count": null,
   "id": "5a359827",
   "metadata": {},
   "outputs": [],
   "source": []
  },
  {
   "cell_type": "code",
   "execution_count": null,
   "id": "72d6886d",
   "metadata": {},
   "outputs": [],
   "source": []
  },
  {
   "cell_type": "code",
   "execution_count": null,
   "id": "3267285f",
   "metadata": {},
   "outputs": [],
   "source": []
  },
  {
   "cell_type": "code",
   "execution_count": null,
   "id": "c95c7325",
   "metadata": {},
   "outputs": [],
   "source": []
  }
 ],
 "metadata": {
  "kernelspec": {
   "display_name": "Python 3",
   "language": "python",
   "name": "python3"
  },
  "language_info": {
   "codemirror_mode": {
    "name": "ipython",
    "version": 3
   },
   "file_extension": ".py",
   "mimetype": "text/x-python",
   "name": "python",
   "nbconvert_exporter": "python",
   "pygments_lexer": "ipython3",
   "version": "3.8.6"
  }
 },
 "nbformat": 4,
 "nbformat_minor": 5
}
