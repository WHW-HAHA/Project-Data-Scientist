{
 "cells": [
  {
   "cell_type": "markdown",
   "id": "4e88d4d3",
   "metadata": {},
   "source": [
    "# JSON 基础\n",
    "\n",
    "JSON (JavaScript Object Notation 的缩写) 是一种数据交换格式，最常用于客户端-服务器通信，当然你也可以将它保存到本地，所以也可以用来作为配置文件，JSON很想Python中的字典，但两者也有明显的区别，不能混用\n",
    "\n",
    "* 字典中字符串使用单引号，JSON强制为双引号（这一点千万注意，json中是不能有单引号的！）\n",
    "* JSON的Key只能是字符串，而python中的字典可以是任何可Hash的对象。\n",
    "\n",
    "\n",
    "这篇文章中我们就来学习一下如何使用Python来操作JSON\n",
    "\n",
    "\n",
    "\n",
    "本文将由由浅入深的9个例子构成"
   ]
  },
  {
   "cell_type": "markdown",
   "id": "d9003f81",
   "metadata": {},
   "source": [
    "## 01 将字典转换为 JSON\n",
    "\n",
    "json.dumps ()方法将 Python 对象编码成 JSON 字符串"
   ]
  },
  {
   "cell_type": "code",
   "execution_count": 14,
   "id": "b11b05ab",
   "metadata": {},
   "outputs": [],
   "source": [
    "import json"
   ]
  },
  {
   "cell_type": "code",
   "execution_count": 15,
   "id": "958a5f8b",
   "metadata": {},
   "outputs": [
    {
     "data": {
      "text/plain": [
       "{'key1': 'value1', 'key2': 'value2'}"
      ]
     },
     "execution_count": 15,
     "metadata": {},
     "output_type": "execute_result"
    }
   ],
   "source": [
    "data = {'key1': 'value1', 'key2': 'value2'}\n",
    "data"
   ]
  },
  {
   "cell_type": "code",
   "execution_count": 16,
   "id": "161f5bda",
   "metadata": {},
   "outputs": [
    {
     "name": "stdout",
     "output_type": "stream",
     "text": [
      "{\"key1\": \"value1\", \"key2\": \"value2\"}\n"
     ]
    }
   ],
   "source": [
    "# 首先介绍json库的dump方法，用来将Python对象转化为Json对象\n",
    "json_Data = json.dumps(data)\n",
    "print(json_Data)"
   ]
  },
  {
   "cell_type": "markdown",
   "id": "7e78ac08",
   "metadata": {},
   "source": [
    "## 02 访问 Json 对象中的键\n",
    "\n",
    "json.loads ()方法用于解码 JSON 数据，该方法返回 Python 字段的数据类型。"
   ]
  },
  {
   "cell_type": "code",
   "execution_count": 4,
   "id": "ae5ae6dd",
   "metadata": {},
   "outputs": [
    {
     "name": "stdout",
     "output_type": "stream",
     "text": [
      "value2\n"
     ]
    }
   ],
   "source": [
    "sampleJson = \"\"\"{\"key1\": \"value1\", \"key2\": \"value2\"}\"\"\"\n",
    "\n",
    "# 我们用到了json库的loads方法\n",
    "data = json.loads(sampleJson)\n",
    "print(data['key2'])"
   ]
  },
  {
   "cell_type": "markdown",
   "id": "bcbd21fb",
   "metadata": {},
   "source": [
    "## 03 将 Json 格式化后输出"
   ]
  },
  {
   "cell_type": "code",
   "execution_count": 5,
   "id": "8e743024",
   "metadata": {},
   "outputs": [
    {
     "name": "stdout",
     "output_type": "stream",
     "text": [
      "{\n",
      "  \"key1\"=\"value2\",\n",
      "  \"key2\"=\"value2\",\n",
      "  \"key3\"=\"value3\"\n",
      "}\n"
     ]
    }
   ],
   "source": [
    "sampleJson = {\"key1\" : \"value2\", \"key2\" : \"value2\", \"key3\" : \"value3\"}\n",
    "\n",
    "#dumps中可以声明 格式化后Json对象的缩进，分隔符\n",
    "prettyPrintJson = json.dumps(sampleJson, indent =2, separators=(',', '='))\n",
    "print(prettyPrintJson)"
   ]
  },
  {
   "cell_type": "markdown",
   "id": "4172d134",
   "metadata": {},
   "source": [
    "## 04 将 Json 按照 key 进行排序后保存到输出文件中"
   ]
  },
  {
   "cell_type": "code",
   "execution_count": 6,
   "id": "b5b43df8",
   "metadata": {},
   "outputs": [
    {
     "name": "stdout",
     "output_type": "stream",
     "text": [
      "Done writting JSON data into a file\n"
     ]
    }
   ],
   "source": [
    "sampleJson = {'id': 1, 'name': 'Wang', 'age': 29 }\n",
    "with open('sampleJson.json', 'w') as write_file:\n",
    "    json.dump(sampleJson, write_file, indent = 4, sort_keys=True)\n",
    "print('Done writting JSON data into a file')"
   ]
  },
  {
   "cell_type": "markdown",
   "id": "acb361ea",
   "metadata": {},
   "source": [
    "## 05 访问 Json 的嵌套对象，定输出 salary 的值"
   ]
  },
  {
   "cell_type": "code",
   "execution_count": 7,
   "id": "62b5a96b",
   "metadata": {},
   "outputs": [
    {
     "name": "stdout",
     "output_type": "stream",
     "text": [
      "7000\n"
     ]
    }
   ],
   "source": [
    "sampleJson = \"\"\"{\n",
    "    \"company\":{\n",
    "        \"employee\":{\n",
    "            \"name\": \"emma\",\n",
    "            \"payable\": {\n",
    "                \"salary\": 7000,\n",
    "                \"bonus\": 800\n",
    "            }\n",
    "        }\n",
    "    }\n",
    "}\"\"\"\n",
    "\n",
    "data = json.loads(sampleJson)\n",
    "\n",
    "#通过方括号[]来遍历节点和节点中的key\n",
    "print(data['company']['employee']['payable']['salary'])"
   ]
  },
  {
   "cell_type": "markdown",
   "id": "aa4db79c",
   "metadata": {},
   "source": [
    "## 06 将类对象转化为 Json"
   ]
  },
  {
   "cell_type": "code",
   "execution_count": 8,
   "id": "1f7402fe",
   "metadata": {},
   "outputs": [
    {
     "data": {
      "text/plain": [
       "<__main__.Vehicle at 0x20a9cda9ee0>"
      ]
     },
     "execution_count": 8,
     "metadata": {},
     "output_type": "execute_result"
    }
   ],
   "source": [
    "class Vehicle:\n",
    "    def __init__(self, name, engine, price):\n",
    "        self.name = name\n",
    "        self.engine = engine\n",
    "        self.price = price\n",
    "        \n",
    "vehicle = Vehicle(name = 'Toyota Rav4', engine =  '2.5L', price = '32000')\n",
    "vehicle"
   ]
  },
  {
   "cell_type": "code",
   "execution_count": 9,
   "id": "35c76b28",
   "metadata": {},
   "outputs": [
    {
     "name": "stdout",
     "output_type": "stream",
     "text": [
      "Encode Vehicle Object into JSON\n",
      "{\n",
      "    \"name\": \"Toyota Rav4\",\n",
      "    \"engine\": \"2.5L\",\n",
      "    \"price\": \"32000\"\n",
      "}\n"
     ]
    }
   ],
   "source": [
    "from json import JSONEncoder\n",
    "\n",
    "class VehicleEncoder(JSONEncoder):\n",
    "    def default(self, o):\n",
    "        return o.__dict__\n",
    "    \n",
    "print(\"Encode Vehicle Object into JSON\")\n",
    "vehicleJson = json.dumps(vehicle, indent = 4, cls = VehicleEncoder)\n",
    "print(vehicleJson)"
   ]
  },
  {
   "cell_type": "markdown",
   "id": "65b3a750",
   "metadata": {},
   "source": [
    "## 07 将 Json 转化为类对象"
   ]
  },
  {
   "cell_type": "code",
   "execution_count": 10,
   "id": "7abd8b31",
   "metadata": {},
   "outputs": [
    {
     "name": "stdout",
     "output_type": "stream",
     "text": [
      "Type of decoded object from JSON Data\n",
      "<class '__main__.Vehicle'>\n",
      "Vehicle Details\n",
      "Toyota Rav4 2.5L 32000\n"
     ]
    }
   ],
   "source": [
    "class Vehicle:\n",
    "    def __init__(self, name, engine, price):\n",
    "        self.name = name\n",
    "        self.engine = engine\n",
    "        self.price = price\n",
    "        \n",
    "def vehicleDecoder(obj):\n",
    "    return Vehicle(obj['name'], obj['engine'], obj['price'])\n",
    "\n",
    "vehicleObj = json.loads('{ \"name\": \"Toyota Rav4\", \"engine\": \"2.5L\", \"price\": 32000 }',\n",
    "           object_hook=vehicleDecoder)\n",
    "\n",
    "print(\"Type of decoded object from JSON Data\")\n",
    "print(type(vehicleObj))\n",
    "print(\"Vehicle Details\")\n",
    "print(vehicleObj.name, vehicleObj.engine, vehicleObj.price)"
   ]
  },
  {
   "cell_type": "markdown",
   "id": "d35e1e33",
   "metadata": {},
   "source": [
    "## 08 判断 Json 格式是否正确"
   ]
  },
  {
   "cell_type": "code",
   "execution_count": 11,
   "id": "d318f4ae",
   "metadata": {},
   "outputs": [
    {
     "name": "stdout",
     "output_type": "stream",
     "text": [
      "Given JSON string is Valid False\n"
     ]
    }
   ],
   "source": [
    "import json\n",
    "\n",
    "def validateJSON(jsonData):\n",
    "    try:\n",
    "        json.loads(jsonData)\n",
    "    except ValueError as err:\n",
    "        return False\n",
    "    return True\n",
    "\n",
    "InvalidJsonData = \"\"\"{ \"company\":{\n",
    "                        \"employee\":{ \n",
    "                            \"name\":\"emma\",\n",
    "                            \"payble\":{ \n",
    "                                \"salary\":7000 # a ',' is missing here\n",
    "                                \"bonus\":800} } } }\"\"\"\n",
    "isValid = validateJSON(InvalidJsonData)\n",
    "\n",
    "print(\"Given JSON string is Valid\", isValid)"
   ]
  },
  {
   "cell_type": "markdown",
   "id": "34112b81",
   "metadata": {},
   "source": [
    "## 09 获取 Json 中 key 为 name 的所有值"
   ]
  },
  {
   "cell_type": "code",
   "execution_count": 12,
   "id": "c1cf9d7c",
   "metadata": {},
   "outputs": [],
   "source": [
    "sampleJson = \"\"\"[\n",
    "   {\n",
    "      \"id\":1,\n",
    "      \"name\":\"name1\",\n",
    "      \"color\":[\n",
    "         \"red\",\n",
    "         \"green\"\n",
    "      ]\n",
    "   },\n",
    "   {\n",
    "      \"id\":2,\n",
    "      \"name\":\"name2\",\n",
    "      \"color\":[\n",
    "         \"pink\",\n",
    "         \"yellow\"\n",
    "      ]\n",
    "   }\n",
    "]\"\"\""
   ]
  },
  {
   "cell_type": "code",
   "execution_count": 13,
   "id": "5be0f99e",
   "metadata": {},
   "outputs": [
    {
     "name": "stdout",
     "output_type": "stream",
     "text": [
      "['name1', 'name2']\n"
     ]
    }
   ],
   "source": [
    "data = []\n",
    "try:\n",
    "    data = json.loads(sampleJson)\n",
    "except Exception as e:\n",
    "    print(e)\n",
    "    \n",
    "datalist = [item.get('name') for item in data]\n",
    "print(datalist)        "
   ]
  }
 ],
 "metadata": {
  "kernelspec": {
   "display_name": "Python 3",
   "language": "python",
   "name": "python3"
  },
  "language_info": {
   "codemirror_mode": {
    "name": "ipython",
    "version": 3
   },
   "file_extension": ".py",
   "mimetype": "text/x-python",
   "name": "python",
   "nbconvert_exporter": "python",
   "pygments_lexer": "ipython3",
   "version": "3.8.6"
  }
 },
 "nbformat": 4,
 "nbformat_minor": 5
}
