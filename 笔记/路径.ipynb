{
 "cells": [
  {
   "cell_type": "markdown",
   "id": "194721b2",
   "metadata": {},
   "source": [
    "## 相对路径中 \"./\",  \"../\",  \"/\" 代表的含义\n",
    "\n",
    "\"./\" ： 代表当前所在的目录， 和本文件所在的同一目录\n",
    "\n",
    "\"../\": 代表上一级目录\n",
    "\n",
    "\"/\"  : 代表根目录\n",
    "\n",
    "下面举例来说明"
   ]
  },
  {
   "cell_type": "markdown",
   "id": "62095ade",
   "metadata": {},
   "source": [
    "### 1. 文件在当前目录, 现在我想加载在当前文件夹中的图片 skyline.png, 那么我有两种方法"
   ]
  },
  {
   "cell_type": "markdown",
   "id": "9b1a010d",
   "metadata": {},
   "source": [
    "\"./skyline.jpg\" 或者\n",
    "\"skyline.jpg\" "
   ]
  },
  {
   "cell_type": "markdown",
   "id": "f7fdceac",
   "metadata": {},
   "source": [
    "![](./skyline.jpg)"
   ]
  },
  {
   "cell_type": "markdown",
   "id": "a39d0871",
   "metadata": {},
   "source": [
    "### 3. 文件在下一层目录\n",
    "\n",
    "--笔记<br>\n",
    "*  -- 本文件<br>\n",
    "*  -- Picture<br>\n",
    "\n",
    "那么如果我想加载当前路径的 Picture 文件夹内的 earth.jpg 文件，则可以使用 './Picture/earth.jpg'"
   ]
  },
  {
   "cell_type": "markdown",
   "id": "8bb8b4d9",
   "metadata": {},
   "source": [
    "![](./Picture/earth.jpg) "
   ]
  },
  {
   "cell_type": "markdown",
   "id": "dc268d67",
   "metadata": {},
   "source": [
    "### 3. 文件在上一层目录的某个文件夹中\n",
    "\n",
    "--笔记<br>\n",
    "*  -- 本文件<br>\n",
    "*  -- Picture<br>\n",
    "\n",
    "-- SQL\n",
    "*  -- Picrure<br>\n",
    "  \n",
    "当前我们的是在 本文件 的位置，如果我们想获得在上一级目录 SQL 中 Picture 的图片，则需要使用 \"../\"\n",
    "\n",
    "\"../SQL/Picture/.png\"\n",
    "\n",
    "如果在上两层文件目录中，则可以使用 \"../../\""
   ]
  },
  {
   "cell_type": "markdown",
   "id": "08bfdcfe",
   "metadata": {},
   "source": [
    "![](../SQL/Picture/DB_outline.png)"
   ]
  }
 ],
 "metadata": {
  "kernelspec": {
   "display_name": "Python 3",
   "language": "python",
   "name": "python3"
  },
  "language_info": {
   "codemirror_mode": {
    "name": "ipython",
    "version": 3
   },
   "file_extension": ".py",
   "mimetype": "text/x-python",
   "name": "python",
   "nbconvert_exporter": "python",
   "pygments_lexer": "ipython3",
   "version": "3.8.6"
  }
 },
 "nbformat": 4,
 "nbformat_minor": 5
}
