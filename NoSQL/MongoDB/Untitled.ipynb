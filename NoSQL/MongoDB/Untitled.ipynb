{
 "cells": [
  {
   "cell_type": "markdown",
   "id": "0c1c50ec",
   "metadata": {},
   "source": [
    "## 测试连接数据库"
   ]
  },
  {
   "cell_type": "code",
   "execution_count": 3,
   "id": "89471205",
   "metadata": {},
   "outputs": [],
   "source": [
    "import pymongo\n",
    "client = pymongo.MongoClient(host = '127.0.0.1')"
   ]
  },
  {
   "cell_type": "markdown",
   "id": "746dc08f",
   "metadata": {},
   "source": [
    "首先，调用 MongoClient 方法对数据库进行连接,参数一般我们写两个，host 写主机 ip ，还有一个是 port 端口号，port默认的话是 27017 可以省略。"
   ]
  },
  {
   "cell_type": "markdown",
   "id": "399892e8",
   "metadata": {},
   "source": [
    "### 数据库创建"
   ]
  },
  {
   "cell_type": "code",
   "execution_count": 4,
   "id": "7761debf",
   "metadata": {},
   "outputs": [
    {
     "name": "stdout",
     "output_type": "stream",
     "text": [
      "Database(MongoClient(host=['127.0.0.1:27017'], document_class=dict, tz_aware=False, connect=True), 'traffic')\n"
     ]
    }
   ],
   "source": [
    "db = client.traffic # 读取‘trffic’数据库，如果该数据库不存在则创建数据库 \n",
    "print(db)"
   ]
  },
  {
   "cell_type": "code",
   "execution_count": 6,
   "id": "1f5b0135",
   "metadata": {},
   "outputs": [
    {
     "data": {
      "text/plain": [
       "['admin', 'config', 'local']"
      ]
     },
     "execution_count": 6,
     "metadata": {},
     "output_type": "execute_result"
    }
   ],
   "source": [
    "db_list = client.list_database_names()\n",
    "db_list"
   ]
  },
  {
   "cell_type": "markdown",
   "id": "51ed727a",
   "metadata": {},
   "source": [
    "### 数据写入\n",
    "\n",
    "此时可以看到 traffic 数据库暂时还没有被创建。实际上在MongoDB中，只有当创建集合并插入文档之后数据库才会被创建。"
   ]
  },
  {
   "cell_type": "code",
   "execution_count": 7,
   "id": "bf211a73",
   "metadata": {},
   "outputs": [
    {
     "name": "stdout",
     "output_type": "stream",
     "text": [
      "<pymongo.results.InsertOneResult object at 0x000001BBCADAE180>\n",
      "60ad2e6d5957fbef2d5120d6\n"
     ]
    }
   ],
   "source": [
    "collections = db.person # 创建一个集合，集合就相当于SQL中的表名\n",
    "# 继续在表中添加数据\n",
    "\n",
    "person_one = {\n",
    "    'name': 'WHW',\n",
    "    'age': '24',\n",
    "    'height': '175',\n",
    "    'weight': '60'\n",
    "}\n",
    "\n",
    "result = collections.insert_one(person_one)  # 文档插入集合\n",
    "print(result)  # 打印结果\n",
    "print(result.inserted_id)  # 打印插入数据的返回 id 标识"
   ]
  },
  {
   "cell_type": "markdown",
   "id": "dafd752a",
   "metadata": {},
   "source": [
    "至此为止，数据库才创建成功, 接下来查看一下，果然数据库创建完成了\n"
   ]
  },
  {
   "cell_type": "code",
   "execution_count": 9,
   "id": "3628d538",
   "metadata": {},
   "outputs": [
    {
     "data": {
      "text/plain": [
       "['admin', 'config', 'local', 'traffic']"
      ]
     },
     "execution_count": 9,
     "metadata": {},
     "output_type": "execute_result"
    }
   ],
   "source": [
    "db_list = client.list_database_names()\n",
    "db_list "
   ]
  },
  {
   "cell_type": "markdown",
   "id": "05c2aef4",
   "metadata": {},
   "source": [
    "insert_one() 方法用于插入一条数据，当需要插入多条数据时可以使用insert_many()方法"
   ]
  },
  {
   "cell_type": "code",
   "execution_count": 13,
   "id": "4bf9d6ea",
   "metadata": {},
   "outputs": [
    {
     "name": "stdout",
     "output_type": "stream",
     "text": [
      "<pymongo.results.InsertManyResult object at 0x000001BBCC663400>\n"
     ]
    }
   ],
   "source": [
    "person_one = {\n",
    "    'name': 'WHW',\n",
    "    'age': '24',\n",
    "    'height': '175',\n",
    "    'weight': '60'\n",
    "}\n",
    "\n",
    "person_two = {\n",
    "    'name': 'WHW',\n",
    "    'age': '22',\n",
    "    'height': '180',\n",
    "    'weight': '63'\n",
    "}\n",
    "\n",
    "person_list = [person_one, person_two]\n",
    "result = collections.insert_many(person_list)\n",
    "print(result)"
   ]
  },
  {
   "cell_type": "markdown",
   "id": "d7b00653",
   "metadata": {},
   "source": [
    "### 数据查询"
   ]
  },
  {
   "cell_type": "markdown",
   "id": "ea6ab3bd",
   "metadata": {},
   "source": [
    "与写入数据类似，查询数据也可以查询单条数据 find_one() 或者多条数据 find()"
   ]
  },
  {
   "cell_type": "code",
   "execution_count": 15,
   "id": "3742ac2f",
   "metadata": {},
   "outputs": [
    {
     "name": "stdout",
     "output_type": "stream",
     "text": [
      "{'_id': ObjectId('60ad2e6d5957fbef2d5120d6'), 'name': 'WHW', 'age': '24', 'height': '175', 'weight': '60'}\n"
     ]
    }
   ],
   "source": [
    "# 单条查询\n",
    "result = collections.find_one()\n",
    "print(result)"
   ]
  },
  {
   "cell_type": "code",
   "execution_count": 16,
   "id": "448468cd",
   "metadata": {},
   "outputs": [
    {
     "name": "stdout",
     "output_type": "stream",
     "text": [
      "{'_id': ObjectId('60ad2e6d5957fbef2d5120d6'), 'name': 'WHW', 'age': '24', 'height': '175', 'weight': '60'}\n",
      "{'_id': ObjectId('60ad5af85957fbef2d5120d7'), 'name': 'WHW', 'age': '24', 'height': '175', 'weight': '60'}\n",
      "{'_id': ObjectId('60ad5af85957fbef2d5120d8'), 'name': 'WHW', 'age': '22', 'height': '180', 'weight': '63'}\n",
      "{'_id': ObjectId('60ad5b065957fbef2d5120d9'), 'name': 'WHW', 'age': '24', 'height': '175', 'weight': '60'}\n",
      "{'_id': ObjectId('60ad5b065957fbef2d5120da'), 'name': 'WHW', 'age': '22', 'height': '180', 'weight': '63'}\n",
      "{'_id': ObjectId('60ad5b225957fbef2d5120db'), 'name': 'WHW', 'age': '24', 'height': '175', 'weight': '60'}\n",
      "{'_id': ObjectId('60ad5b225957fbef2d5120dc'), 'name': 'WHW', 'age': '22', 'height': '180', 'weight': '63'}\n"
     ]
    }
   ],
   "source": [
    "# 多条查询\n",
    "results = collections.find()\n",
    "for result in results:\n",
    "    print(result)"
   ]
  },
  {
   "cell_type": "markdown",
   "id": "7a88e730",
   "metadata": {},
   "source": [
    "但既然是查询，当然我们可以指定想要返回的字段，就像 SQL 语句一样\n",
    "\n",
    "SELECT name, age from person\n",
    "\n",
    "在 find() 方法中，查询指定字段的方法如下，0代表不要，1代表要,注意，里面是两个参数，第一个参数是空的对象"
   ]
  },
  {
   "cell_type": "code",
   "execution_count": 17,
   "id": "5180b296",
   "metadata": {},
   "outputs": [
    {
     "name": "stdout",
     "output_type": "stream",
     "text": [
      "{'name': 'WHW', 'age': '24'}\n",
      "{'name': 'WHW', 'age': '24'}\n",
      "{'name': 'WHW', 'age': '22'}\n",
      "{'name': 'WHW', 'age': '24'}\n",
      "{'name': 'WHW', 'age': '22'}\n",
      "{'name': 'WHW', 'age': '24'}\n",
      "{'name': 'WHW', 'age': '22'}\n"
     ]
    }
   ],
   "source": [
    "result = collections.find({}, {'_id': 0, 'name': 1, 'age': 1})\n",
    "for a in result:\n",
    "    print(a)"
   ]
  },
  {
   "cell_type": "markdown",
   "id": "a7d24d0e",
   "metadata": {},
   "source": [
    "这样我们就查询了 name 和 age 两个字段，注意不想查询的字段一定要赋0，不然仍然会显示在查询的结果中。下面的例子中 id 字段仍然被选中了\n"
   ]
  },
  {
   "cell_type": "code",
   "execution_count": 19,
   "id": "d179c90a",
   "metadata": {},
   "outputs": [
    {
     "name": "stdout",
     "output_type": "stream",
     "text": [
      "{'_id': ObjectId('60ad5b225957fbef2d5120dc'), 'name': 'WHW', 'age': '22'}\n",
      "{'_id': ObjectId('60ad5b225957fbef2d5120dc'), 'name': 'WHW', 'age': '22'}\n",
      "{'_id': ObjectId('60ad5b225957fbef2d5120dc'), 'name': 'WHW', 'age': '22'}\n",
      "{'_id': ObjectId('60ad5b225957fbef2d5120dc'), 'name': 'WHW', 'age': '22'}\n",
      "{'_id': ObjectId('60ad5b225957fbef2d5120dc'), 'name': 'WHW', 'age': '22'}\n",
      "{'_id': ObjectId('60ad5b225957fbef2d5120dc'), 'name': 'WHW', 'age': '22'}\n",
      "{'_id': ObjectId('60ad5b225957fbef2d5120dc'), 'name': 'WHW', 'age': '22'}\n"
     ]
    }
   ],
   "source": [
    "results = collections.find({}, {'name': 1, 'age': 1})\n",
    "for result in results:\n",
    "    print(a)"
   ]
  },
  {
   "cell_type": "markdown",
   "id": "38fc7ed7",
   "metadata": {},
   "source": [
    "查询还可以根据设定的条件查询，在 SQL 中如过想查询 age 为‘22’的 person 信息一般会使用如下的查询语句 \n",
    "\n",
    "SELECT * FROM person WHERE age = '22'  \n",
    "\n",
    "在 pymongo 中想达到相同的效果，可以使用如下查询"
   ]
  },
  {
   "cell_type": "code",
   "execution_count": null,
   "id": "3f755175",
   "metadata": {},
   "outputs": [],
   "source": [
    "result2 = collections.find({'age': '22'})\n"
   ]
  },
  {
   "cell_type": "code",
   "execution_count": null,
   "id": "06f4b483",
   "metadata": {},
   "outputs": [],
   "source": []
  },
  {
   "cell_type": "code",
   "execution_count": null,
   "id": "085d894b",
   "metadata": {},
   "outputs": [],
   "source": []
  },
  {
   "cell_type": "code",
   "execution_count": null,
   "id": "d0602b0a",
   "metadata": {},
   "outputs": [],
   "source": []
  },
  {
   "cell_type": "code",
   "execution_count": null,
   "id": "e9038fff",
   "metadata": {},
   "outputs": [],
   "source": []
  },
  {
   "cell_type": "code",
   "execution_count": null,
   "id": "ea0046a3",
   "metadata": {},
   "outputs": [],
   "source": []
  },
  {
   "cell_type": "code",
   "execution_count": null,
   "id": "a0b2c447",
   "metadata": {},
   "outputs": [],
   "source": []
  },
  {
   "cell_type": "code",
   "execution_count": null,
   "id": "dfa55463",
   "metadata": {},
   "outputs": [],
   "source": []
  },
  {
   "cell_type": "code",
   "execution_count": null,
   "id": "c15d5551",
   "metadata": {},
   "outputs": [],
   "source": []
  },
  {
   "cell_type": "code",
   "execution_count": null,
   "id": "a78b4e8f",
   "metadata": {},
   "outputs": [],
   "source": []
  },
  {
   "cell_type": "code",
   "execution_count": null,
   "id": "614d3131",
   "metadata": {},
   "outputs": [],
   "source": []
  },
  {
   "cell_type": "code",
   "execution_count": null,
   "id": "54bcc156",
   "metadata": {},
   "outputs": [],
   "source": []
  },
  {
   "cell_type": "code",
   "execution_count": null,
   "id": "2fceaa7d",
   "metadata": {},
   "outputs": [],
   "source": []
  },
  {
   "cell_type": "code",
   "execution_count": null,
   "id": "f5ab777d",
   "metadata": {},
   "outputs": [],
   "source": []
  },
  {
   "cell_type": "code",
   "execution_count": null,
   "id": "ac4712ed",
   "metadata": {},
   "outputs": [],
   "source": []
  },
  {
   "cell_type": "code",
   "execution_count": null,
   "id": "4c391fee",
   "metadata": {},
   "outputs": [],
   "source": []
  },
  {
   "cell_type": "code",
   "execution_count": null,
   "id": "e2fdfc9a",
   "metadata": {},
   "outputs": [],
   "source": []
  },
  {
   "cell_type": "code",
   "execution_count": null,
   "id": "a7de1804",
   "metadata": {},
   "outputs": [],
   "source": []
  },
  {
   "cell_type": "code",
   "execution_count": null,
   "id": "68cfc2b9",
   "metadata": {},
   "outputs": [],
   "source": []
  },
  {
   "cell_type": "code",
   "execution_count": null,
   "id": "a01c8988",
   "metadata": {},
   "outputs": [],
   "source": []
  },
  {
   "cell_type": "code",
   "execution_count": null,
   "id": "51ed014d",
   "metadata": {},
   "outputs": [],
   "source": []
  },
  {
   "cell_type": "code",
   "execution_count": null,
   "id": "946a38ac",
   "metadata": {},
   "outputs": [],
   "source": []
  },
  {
   "cell_type": "code",
   "execution_count": null,
   "id": "33a2321f",
   "metadata": {},
   "outputs": [],
   "source": []
  }
 ],
 "metadata": {
  "kernelspec": {
   "display_name": "Python 3",
   "language": "python",
   "name": "python3"
  },
  "language_info": {
   "codemirror_mode": {
    "name": "ipython",
    "version": 3
   },
   "file_extension": ".py",
   "mimetype": "text/x-python",
   "name": "python",
   "nbconvert_exporter": "python",
   "pygments_lexer": "ipython3",
   "version": "3.8.6"
  }
 },
 "nbformat": 4,
 "nbformat_minor": 5
}
