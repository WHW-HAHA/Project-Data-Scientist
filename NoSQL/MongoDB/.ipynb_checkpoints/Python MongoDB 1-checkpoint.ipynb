{
 "cells": [
  {
   "cell_type": "markdown",
   "id": "3e063b64",
   "metadata": {},
   "source": [
    "# Python 和 MongoDB\n",
    "\n",
    "今天这篇文章将简单探讨一下如何使用 Python 操作 MongoDB 数据库\n",
    "\n",
    "如果你看过我之前的文章或者对关系型数据库比较了解的话，那么 MongoDB 中的概念也是通用的，下面我们简单的来做一个对比\n",
    "\n",
    "SQL | No SQL <br>\n",
    "库  | 库 <br>\n",
    "表  | 集合 <br>\n",
    "行  | 文档 <br>\n",
    "列  | 字段 <br>\n",
    "\n",
    "在关系型数据库中的概念在非关系型数据库也是有对应的，比较一下就很容易理解了"
   ]
  },
  {
   "cell_type": "markdown",
   "id": "8c5c8c9f",
   "metadata": {},
   "source": [
    "### 测试连接数据库"
   ]
  },
  {
   "cell_type": "code",
   "execution_count": 1,
   "id": "2320ae0a",
   "metadata": {},
   "outputs": [],
   "source": [
    "# 对数据库操作之前 要先进行数据库连接\n",
    "import pymongo\n",
    "client = pymongo.MongoClient(host = '127.0.0.1')"
   ]
  },
  {
   "cell_type": "markdown",
   "id": "991e608b",
   "metadata": {},
   "source": [
    "首先，调用 MongoClient 方法对数据库进行连接,参数一般我们写两个，host 写主机 ip ，还有一个是 port 端口号，port默认的话是 27017 可以省略。"
   ]
  },
  {
   "cell_type": "markdown",
   "id": "d7003069",
   "metadata": {},
   "source": [
    "### 数据库创建"
   ]
  },
  {
   "cell_type": "code",
   "execution_count": 2,
   "id": "1c6e09ba",
   "metadata": {},
   "outputs": [
    {
     "name": "stdout",
     "output_type": "stream",
     "text": [
      "Database(MongoClient(host=['127.0.0.1:27017'], document_class=dict, tz_aware=False, connect=True), 'traffic')\n"
     ]
    }
   ],
   "source": [
    "db = client.traffic # 读取‘trffic’数据库，如果该数据库不存在则创建数据库 \n",
    "print(db)"
   ]
  },
  {
   "cell_type": "code",
   "execution_count": 3,
   "id": "896f5a2c",
   "metadata": {},
   "outputs": [
    {
     "data": {
      "text/plain": [
       "['admin', 'config', 'traffic']"
      ]
     },
     "execution_count": 3,
     "metadata": {},
     "output_type": "execute_result"
    }
   ],
   "source": [
    "db_list = client.list_database_names()\n",
    "db_list"
   ]
  },
  {
   "cell_type": "markdown",
   "id": "6d3bfcea",
   "metadata": {},
   "source": [
    "此时可以看到 traffic 数据库暂时还没有被创建。实际上在MongoDB中，只有当创建集合并插入文档之后数据库才会被创建。"
   ]
  },
  {
   "cell_type": "markdown",
   "id": "93eaee76",
   "metadata": {},
   "source": [
    "### 数据写入\n",
    "\n",
    "MongoBD 中有单条写入数据的方法 insert_one() 和多条写入数据的方法 insert_many()"
   ]
  },
  {
   "cell_type": "code",
   "execution_count": 4,
   "id": "0ba49afb",
   "metadata": {},
   "outputs": [
    {
     "name": "stdout",
     "output_type": "stream",
     "text": [
      "<pymongo.results.InsertOneResult object at 0x000001A0014E4AC0>\n",
      "60ae6ef87412ae5178344eb0\n"
     ]
    }
   ],
   "source": [
    "collections = db.person # 创建一个集合，集合就相当于SQL中的表名\n",
    "# 继续在表中添加数据\n",
    "\n",
    "person_one = {\n",
    "    'name': 'WHW',\n",
    "    'age': '24',\n",
    "    'height': '175',\n",
    "    'weight': '60'\n",
    "}\n",
    "\n",
    "result = collections.insert_one(person_one)  # 文档插入集合\n",
    "print(result)  # 打印结果\n",
    "print(result.inserted_id)  # 打印插入数据的返回 id 标识"
   ]
  },
  {
   "cell_type": "markdown",
   "id": "ec1576e1",
   "metadata": {},
   "source": [
    "至此为止，数据库才创建成功, 接下来查看一下，果然数据库创建完成了\n",
    "![](Picture/One_field.png)"
   ]
  },
  {
   "cell_type": "code",
   "execution_count": 5,
   "id": "b0d3e9fa",
   "metadata": {},
   "outputs": [
    {
     "data": {
      "text/plain": [
       "['admin', 'config', 'traffic']"
      ]
     },
     "execution_count": 5,
     "metadata": {},
     "output_type": "execute_result"
    }
   ],
   "source": [
    "db_list = client.list_database_names()\n",
    "db_list "
   ]
  },
  {
   "cell_type": "markdown",
   "id": "1979f4b7",
   "metadata": {},
   "source": [
    "insert_one() 方法用于插入一条数据，当需要插入多条数据时可以使用insert_many()方法"
   ]
  },
  {
   "cell_type": "code",
   "execution_count": 6,
   "id": "10abab8a",
   "metadata": {},
   "outputs": [
    {
     "name": "stdout",
     "output_type": "stream",
     "text": [
      "<pymongo.results.InsertManyResult object at 0x000001A001508800>\n"
     ]
    }
   ],
   "source": [
    "person_one = {\n",
    "    'name': 'WHW',\n",
    "    'age': '24',\n",
    "    'height': '175',\n",
    "    'weight': '60'\n",
    "}\n",
    "\n",
    "person_two = {\n",
    "    'name': 'WHW',\n",
    "    'age': '22',\n",
    "    'height': '180',\n",
    "    'weight': '63'\n",
    "}\n",
    "\n",
    "person_list = [person_one, person_two]\n",
    "result = collections.insert_many(person_list)\n",
    "print(result)"
   ]
  },
  {
   "cell_type": "markdown",
   "id": "8fa16f55",
   "metadata": {},
   "source": [
    "### 数据查询"
   ]
  },
  {
   "cell_type": "markdown",
   "id": "545d0c72",
   "metadata": {},
   "source": [
    "与写入数据类似，查询数据也可以查询单条数据 find_one() 或者多条数据 find()"
   ]
  },
  {
   "cell_type": "code",
   "execution_count": 7,
   "id": "a787ad10",
   "metadata": {},
   "outputs": [
    {
     "name": "stdout",
     "output_type": "stream",
     "text": [
      "{'_id': ObjectId('60ae6ef87412ae5178344eb0'), 'name': 'WHW', 'age': '24', 'height': '175', 'weight': '60'}\n"
     ]
    }
   ],
   "source": [
    "# 单条查询\n",
    "result = collections.find_one()\n",
    "print(result)"
   ]
  },
  {
   "cell_type": "code",
   "execution_count": 8,
   "id": "61b51936",
   "metadata": {},
   "outputs": [
    {
     "name": "stdout",
     "output_type": "stream",
     "text": [
      "{'_id': ObjectId('60ae6ef87412ae5178344eb0'), 'name': 'WHW', 'age': '24', 'height': '175', 'weight': '60'}\n",
      "{'_id': ObjectId('60ae6ef87412ae5178344eb1'), 'name': 'WHW', 'age': '24', 'height': '175', 'weight': '60'}\n",
      "{'_id': ObjectId('60ae6ef87412ae5178344eb2'), 'name': 'WHW', 'age': '22', 'height': '180', 'weight': '63'}\n"
     ]
    }
   ],
   "source": [
    "# 多条查询\n",
    "results = collections.find()\n",
    "for result in results:\n",
    "    print(result)"
   ]
  },
  {
   "cell_type": "code",
   "execution_count": 9,
   "id": "fa006d76",
   "metadata": {},
   "outputs": [
    {
     "name": "stdout",
     "output_type": "stream",
     "text": [
      "{'_id': ObjectId('60ae6ef87412ae5178344eb0'), 'name': 'WHW', 'age': '24', 'height': '175', 'weight': '60'}\n",
      "{'_id': ObjectId('60ae6ef87412ae5178344eb1'), 'name': 'WHW', 'age': '24', 'height': '175', 'weight': '60'}\n",
      "{'_id': ObjectId('60ae6ef87412ae5178344eb2'), 'name': 'WHW', 'age': '22', 'height': '180', 'weight': '63'}\n"
     ]
    }
   ],
   "source": [
    "# limit()\n",
    "results = collections.find().limit(3) # 只查看前三个文档\n",
    "for result in results:\n",
    "    print(result)"
   ]
  },
  {
   "cell_type": "markdown",
   "id": "1da5d20f",
   "metadata": {},
   "source": [
    "但既然是查询，当然我们可以指定想要返回的字段，就像 SQL 语句一样\n",
    "\n",
    "SELECT name, age from person\n",
    "\n",
    "在 find() 方法中，查询指定字段的方法如下，0代表不要，1代表要,注意，里面是两个参数，第一个参数是空的对象"
   ]
  },
  {
   "cell_type": "code",
   "execution_count": 10,
   "id": "09b5617c",
   "metadata": {},
   "outputs": [
    {
     "name": "stdout",
     "output_type": "stream",
     "text": [
      "{'name': 'WHW', 'age': '24'}\n",
      "{'name': 'WHW', 'age': '24'}\n",
      "{'name': 'WHW', 'age': '22'}\n"
     ]
    }
   ],
   "source": [
    "result = collections.find({}, {'_id': 0, 'name': 1, 'age': 1})\n",
    "for a in result:\n",
    "    print(a)"
   ]
  },
  {
   "cell_type": "markdown",
   "id": "44dd80e6",
   "metadata": {},
   "source": [
    "这样我们就查询了 name 和 age 两个字段，注意不想查询的字段一定要赋0，不然仍然会显示在查询的结果中。下面的例子中 id 字段仍然被选中了\n"
   ]
  },
  {
   "cell_type": "code",
   "execution_count": 11,
   "id": "edb3444a",
   "metadata": {},
   "outputs": [
    {
     "name": "stdout",
     "output_type": "stream",
     "text": [
      "{'name': 'WHW', 'age': '22'}\n",
      "{'name': 'WHW', 'age': '22'}\n",
      "{'name': 'WHW', 'age': '22'}\n"
     ]
    }
   ],
   "source": [
    "results = collections.find({}, {'name': 1, 'age': 1})\n",
    "for result in results:\n",
    "    print(a)"
   ]
  },
  {
   "cell_type": "markdown",
   "id": "c600988f",
   "metadata": {},
   "source": [
    "查询还可以根据设定的条件查询，在 SQL 中如过想查询 age 为‘22’的 person 信息一般会使用如下的查询语句 \n",
    "\n",
    "SELECT * FROM person WHERE age = '22'  \n",
    "\n",
    "在 pymongo 中想达到相同的效果，可以使用如下查询"
   ]
  },
  {
   "cell_type": "code",
   "execution_count": 12,
   "id": "606f9347",
   "metadata": {},
   "outputs": [
    {
     "name": "stdout",
     "output_type": "stream",
     "text": [
      "{'name': 'WHW', 'age': '22'}\n"
     ]
    }
   ],
   "source": [
    "results = collections.find({'age': '22'})\n",
    "for result in results:\n",
    "    print(a)"
   ]
  },
  {
   "cell_type": "markdown",
   "id": "fe352304",
   "metadata": {},
   "source": [
    "### Pymongo 中的比较运算符查询\n",
    "\n",
    "* lt: less than，相当于 <\n",
    "* gt: greater than，相当于 >\n",
    "* lte: less than or equal, 相当于 <=\n",
    "* gte: greater than or equal, 相当于 >=\n",
    "* ne: not equal, 相当于 !=\n",
    "* in: in\n",
    "* nin: not in\n",
    "\n",
    "语法： collection.find({'field': {'$comparison operator': value,}})"
   ]
  },
  {
   "cell_type": "code",
   "execution_count": 13,
   "id": "9bf71bf3",
   "metadata": {},
   "outputs": [
    {
     "name": "stdout",
     "output_type": "stream",
     "text": [
      "{'_id': ObjectId('60ae6ef87412ae5178344eb0'), 'name': 'WHW', 'age': '24', 'height': '175', 'weight': '60'}\n",
      "{'_id': ObjectId('60ae6ef87412ae5178344eb1'), 'name': 'WHW', 'age': '24', 'height': '175', 'weight': '60'}\n",
      "{'_id': ObjectId('60ae6ef87412ae5178344eb2'), 'name': 'WHW', 'age': '22', 'height': '180', 'weight': '63'}\n"
     ]
    }
   ],
   "source": [
    "results = collections.find({'age': {'$gt': '20'}, 'name':{'$ne': 'whw'}})\n",
    "for result in results:\n",
    "    print(result)"
   ]
  },
  {
   "cell_type": "markdown",
   "id": "bad55544",
   "metadata": {},
   "source": [
    "### Pymongo 中的逻辑运算符查询\n",
    "\n",
    "\n",
    "* and: 与\n",
    "* not: 非\n",
    "* nor: 或非\n",
    "* or: 或\n",
    "\n",
    "语法： collection.find({'$logical operator': [{condition1},\n",
    "                              {condition2}]})"
   ]
  },
  {
   "cell_type": "code",
   "execution_count": 14,
   "id": "1b86c850",
   "metadata": {},
   "outputs": [
    {
     "name": "stdout",
     "output_type": "stream",
     "text": [
      "{'_id': ObjectId('60ae6ef87412ae5178344eb0'), 'name': 'WHW', 'age': '24', 'height': '175', 'weight': '60'}\n",
      "{'_id': ObjectId('60ae6ef87412ae5178344eb1'), 'name': 'WHW', 'age': '24', 'height': '175', 'weight': '60'}\n",
      "{'_id': ObjectId('60ae6ef87412ae5178344eb2'), 'name': 'WHW', 'age': '22', 'height': '180', 'weight': '63'}\n"
     ]
    }
   ],
   "source": [
    "results = collections.find({'$and': [{'age': {'$gt': '20'}, \n",
    "                                      'name':{'$ne': 'whw'}}]})\n",
    "for result in results:\n",
    "    print(result)"
   ]
  },
  {
   "cell_type": "code",
   "execution_count": 15,
   "id": "96b24f40",
   "metadata": {},
   "outputs": [
    {
     "name": "stdout",
     "output_type": "stream",
     "text": [
      "{'_id': ObjectId('60ae6ef87412ae5178344eb2'), 'name': 'WHW', 'age': '22', 'height': '180', 'weight': '63'}\n"
     ]
    }
   ],
   "source": [
    "results = collections.find({'$or': [{'age':  '20'}, \n",
    "                                    {'age':'22'}]})\n",
    "for result in results:\n",
    "    print(result)"
   ]
  },
  {
   "cell_type": "code",
   "execution_count": 16,
   "id": "f25f17a6",
   "metadata": {},
   "outputs": [
    {
     "name": "stdout",
     "output_type": "stream",
     "text": [
      "{'_id': ObjectId('60ae6ef87412ae5178344eb0'), 'name': 'WHW', 'age': '24', 'height': '175', 'weight': '60'}\n",
      "{'_id': ObjectId('60ae6ef87412ae5178344eb1'), 'name': 'WHW', 'age': '24', 'height': '175', 'weight': '60'}\n"
     ]
    }
   ],
   "source": [
    "results = collections.find({'$nor': [{'age':  '20'}, \n",
    "                                    {'age':'22'}]})\n",
    "for result in results:\n",
    "    print(result)"
   ]
  },
  {
   "cell_type": "code",
   "execution_count": 17,
   "id": "951df00d",
   "metadata": {},
   "outputs": [
    {
     "name": "stdout",
     "output_type": "stream",
     "text": [
      "{'_id': ObjectId('60ae6ef87412ae5178344eb0'), 'name': 'WHW', 'age': '24', 'height': '175', 'weight': '60'}\n",
      "{'_id': ObjectId('60ae6ef87412ae5178344eb1'), 'name': 'WHW', 'age': '24', 'height': '175', 'weight': '60'}\n",
      "{'_id': ObjectId('60ae6ef87412ae5178344eb2'), 'name': 'WHW', 'age': '22', 'height': '180', 'weight': '63'}\n"
     ]
    }
   ],
   "source": [
    "# 注意not的使用方法与其他逻辑运算符是不同的\n",
    "results = collections.find({'age': {'$not':{'$lte': '20'}}})\n",
    "for result in results:\n",
    "    print(result)"
   ]
  },
  {
   "cell_type": "markdown",
   "id": "5eedaa16",
   "metadata": {},
   "source": [
    "与查询相关的用法还有很多, 可以在MongoDB的官方文档中找到 https://docs.mongodb.com/manual/reference/operator/query/\n",
    "之后我打算单独写一个章节来介绍 MongoDB 的查询"
   ]
  },
  {
   "cell_type": "markdown",
   "id": "dc198b67",
   "metadata": {},
   "source": [
    "### 计数\n",
    "\n",
    "count()方法可以用来统计查询结果中有多少条数据\n",
    "\n",
    "语法："
   ]
  },
  {
   "cell_type": "code",
   "execution_count": 18,
   "id": "d2d429ce",
   "metadata": {},
   "outputs": [
    {
     "name": "stderr",
     "output_type": "stream",
     "text": [
      "<ipython-input-18-3c5b5b4eb0da>:1: DeprecationWarning: count is deprecated. Use Collection.count_documents instead.\n",
      "  count = collections.find({'age': {'$not':{'$lte': '20'}}}).count()\n"
     ]
    },
    {
     "data": {
      "text/plain": [
       "3"
      ]
     },
     "execution_count": 18,
     "metadata": {},
     "output_type": "execute_result"
    }
   ],
   "source": [
    "count = collections.find({'age': {'$not':{'$lte': '20'}}}).count()\n",
    "count"
   ]
  },
  {
   "cell_type": "markdown",
   "id": "cba32d17",
   "metadata": {},
   "source": [
    "### 排序\n",
    "\n",
    "sort() 方法，可以按照升序或降序进行排列\n",
    "* ASCENDING: 升序\n",
    "* DESCENDING: 降序\n",
    "\n",
    "语法："
   ]
  },
  {
   "cell_type": "code",
   "execution_count": 19,
   "id": "1aeaad7f",
   "metadata": {},
   "outputs": [
    {
     "name": "stdout",
     "output_type": "stream",
     "text": [
      "['22', '24', '24']\n"
     ]
    }
   ],
   "source": [
    "#升序排列\n",
    "ages = collections.find().sort('age', pymongo.ASCENDING)\n",
    "print([result['age'] for result in ages])"
   ]
  },
  {
   "cell_type": "code",
   "execution_count": 20,
   "id": "db356166",
   "metadata": {},
   "outputs": [
    {
     "name": "stdout",
     "output_type": "stream",
     "text": [
      "['24', '24', '22']\n"
     ]
    }
   ],
   "source": [
    "#降序排列\n",
    "ages = collections.find().sort('age', pymongo.DESCENDING)\n",
    "print([result['age'] for result in ages])"
   ]
  },
  {
   "cell_type": "markdown",
   "id": "a64bef9b",
   "metadata": {},
   "source": [
    "### 更新\n",
    "\n",
    "update() 方法可以用来更新数据，只需要指定更新的条件和需要更新的数据即可\n",
    "\n",
    "更新单条数据：update_one()"
   ]
  },
  {
   "cell_type": "code",
   "execution_count": 21,
   "id": "733f15a5",
   "metadata": {},
   "outputs": [
    {
     "name": "stdout",
     "output_type": "stream",
     "text": [
      "{'_id': ObjectId('60ae6ef87412ae5178344eb0'), 'name': 'WHW', 'age': '24', 'height': '175', 'weight': '60'}\n",
      "{'_id': ObjectId('60ae6ef87412ae5178344eb1'), 'name': 'WHW', 'age': '24', 'height': '175', 'weight': '60'}\n"
     ]
    }
   ],
   "source": [
    "# 我们想将所有age 24 的数据更新为27\n",
    "# 首先找到所有的 age 24 数据\n",
    "condition = {'age': '24'}\n",
    "age_22 = collections.find(condition)\n",
    "for result in age_22:\n",
    "    print(result)"
   ]
  },
  {
   "cell_type": "code",
   "execution_count": 22,
   "id": "28a56b82",
   "metadata": {},
   "outputs": [
    {
     "name": "stdout",
     "output_type": "stream",
     "text": [
      "{'_id': ObjectId('60ae6ef87412ae5178344eb0'), 'name': 'WHW', 'age': '27', 'height': '175', 'weight': '60'}\n"
     ]
    }
   ],
   "source": [
    "condition_2 = {'$set': {'age': '27'}}\n",
    "\n",
    "collections.update_one(condition, condition_2)\n",
    "\n",
    "age_27 = collections.find({'age': '27'})\n",
    "for result in age_27:\n",
    "    print(result)"
   ]
  },
  {
   "cell_type": "markdown",
   "id": "b5e52ca4",
   "metadata": {},
   "source": [
    "通过使用update_one, 有一条数据额被成功更新了\n",
    "\n",
    "如果要更新多条信息的话可以使用update_many()"
   ]
  },
  {
   "cell_type": "code",
   "execution_count": 23,
   "id": "6013e8d5",
   "metadata": {},
   "outputs": [
    {
     "name": "stdout",
     "output_type": "stream",
     "text": [
      "{'_id': ObjectId('60ae6ef87412ae5178344eb0'), 'name': 'WHW', 'age': '27', 'height': '175', 'weight': '60'}\n",
      "{'_id': ObjectId('60ae6ef87412ae5178344eb1'), 'name': 'WHW', 'age': '27', 'height': '175', 'weight': '60'}\n"
     ]
    }
   ],
   "source": [
    "collections.update_many(condition, condition_2)\n",
    "\n",
    "age_27 = collections.find({'age': '27'})\n",
    "for result in age_27:\n",
    "    print(result)"
   ]
  },
  {
   "cell_type": "markdown",
   "id": "d1e54a1a",
   "metadata": {},
   "source": [
    "这样我们就将所有 age 是 '24' 的数据的 age 更新为 '27' 了\n",
    "\n",
    "到目前为止我们的数据库中有三条数据， 也就是3个documents\n",
    "![](Picture/Three_fields.png)"
   ]
  },
  {
   "cell_type": "markdown",
   "id": "68b002c2",
   "metadata": {},
   "source": [
    "### 删除操作\n",
    "\n",
    "同样的，删除也分为删除单条 delete_one() 和删除多条操作 delete_many()"
   ]
  },
  {
   "cell_type": "code",
   "execution_count": 24,
   "id": "14792acd",
   "metadata": {},
   "outputs": [
    {
     "name": "stdout",
     "output_type": "stream",
     "text": [
      "{'_id': ObjectId('60ae6ef87412ae5178344eb1'), 'name': 'WHW', 'age': '27', 'height': '175', 'weight': '60'}\n"
     ]
    }
   ],
   "source": [
    "# 删除单条\n",
    "condition = {'age': '27'}\n",
    "\n",
    "collections.delete_one(condition)\n",
    "\n",
    "age_27 = collections.find({'age': '27'})\n",
    "for result in age_27:\n",
    "    print(result)"
   ]
  },
  {
   "cell_type": "code",
   "execution_count": 25,
   "id": "aa635506",
   "metadata": {},
   "outputs": [],
   "source": [
    "#删除多条\n",
    "collections.delete_many(condition)\n",
    "\n",
    "age_27 = collections.find({'age': '27'})\n",
    "for result in age_27:\n",
    "    print(result)"
   ]
  },
  {
   "cell_type": "markdown",
   "id": "bcb2d034",
   "metadata": {},
   "source": [
    "至此，所有 age 27 的数据已经全部删除了 \n",
    "\n",
    "如果不声明任何条件的话，就会删除 collection 中的所有数据\n"
   ]
  },
  {
   "cell_type": "code",
   "execution_count": 26,
   "id": "a09d4f72",
   "metadata": {},
   "outputs": [],
   "source": [
    "# 删除全部\n",
    "collections.delete_many({})\n",
    "\n",
    "outcome = collections.find()\n",
    "for result in outcome:\n",
    "    print(result)"
   ]
  },
  {
   "cell_type": "markdown",
   "id": "a1a3f7a6",
   "metadata": {},
   "source": [
    "到目前为止数据库中的所有数据都被我们删除了\n",
    "![](Picture/No_field.png)"
   ]
  },
  {
   "cell_type": "markdown",
   "id": "240af720",
   "metadata": {},
   "source": [
    "## 总结\n",
    "\n",
    "这篇文章概述了如何在 Python 中 通过使用 pymongo 来连接数据库，并且增查删改数据。其中‘查’是最为复杂的，因此我准备后面单独出一篇文章来详细讲述 MongoDB 中的‘查’。"
   ]
  }
 ],
 "metadata": {
  "kernelspec": {
   "display_name": "Python 3",
   "language": "python",
   "name": "python3"
  },
  "language_info": {
   "codemirror_mode": {
    "name": "ipython",
    "version": 3
   },
   "file_extension": ".py",
   "mimetype": "text/x-python",
   "name": "python",
   "nbconvert_exporter": "python",
   "pygments_lexer": "ipython3",
   "version": "3.8.6"
  }
 },
 "nbformat": 4,
 "nbformat_minor": 5
}
