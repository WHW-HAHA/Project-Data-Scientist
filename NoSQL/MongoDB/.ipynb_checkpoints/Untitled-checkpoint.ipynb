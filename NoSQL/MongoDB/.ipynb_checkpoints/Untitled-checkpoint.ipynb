{
 "cells": [
  {
   "cell_type": "markdown",
   "id": "ac7771c5",
   "metadata": {},
   "source": [
    "## 测试连接数据库"
   ]
  },
  {
   "cell_type": "code",
   "execution_count": 3,
   "id": "c5dd6b23",
   "metadata": {},
   "outputs": [],
   "source": [
    "import pymongo\n",
    "client = pymongo.MongoClient(host = '127.0.0.1')"
   ]
  },
  {
   "cell_type": "markdown",
   "id": "40afda6d",
   "metadata": {},
   "source": [
    "首先，调用 MongoClient 方法对数据库进行连接,参数一般我们写两个，host 写主机 ip ，还有一个是 port 端口号，port默认的话是 27017 可以省略。"
   ]
  },
  {
   "cell_type": "markdown",
   "id": "74db22b1",
   "metadata": {},
   "source": [
    "### "
   ]
  },
  {
   "cell_type": "code",
   "execution_count": 4,
   "id": "0815cc00",
   "metadata": {},
   "outputs": [
    {
     "name": "stdout",
     "output_type": "stream",
     "text": [
      "Database(MongoClient(host=['127.0.0.1:27017'], document_class=dict, tz_aware=False, connect=True), 'traffic')\n"
     ]
    }
   ],
   "source": [
    "db = client.traffic # 读取‘trffic’数据库，如果该数据库不存在则创建数据库 \n",
    "print(db)"
   ]
  },
  {
   "cell_type": "code",
   "execution_count": 6,
   "id": "1dbaa6ce",
   "metadata": {},
   "outputs": [
    {
     "data": {
      "text/plain": [
       "['admin', 'config', 'local']"
      ]
     },
     "execution_count": 6,
     "metadata": {},
     "output_type": "execute_result"
    }
   ],
   "source": [
    "db_list = client.list_database_names()\n",
    "db_list"
   ]
  },
  {
   "cell_type": "markdown",
   "id": "5b642722",
   "metadata": {},
   "source": [
    "### 数据写入\n",
    "\n",
    "此时可以看到 traffic 数据库暂时还没有被创建。实际上在MongoDB中，只有当创建集合并插入文档之后数据库才会被创建。"
   ]
  },
  {
   "cell_type": "code",
   "execution_count": 7,
   "id": "7bdcc609",
   "metadata": {},
   "outputs": [
    {
     "name": "stdout",
     "output_type": "stream",
     "text": [
      "<pymongo.results.InsertOneResult object at 0x000001BBCADAE180>\n",
      "60ad2e6d5957fbef2d5120d6\n"
     ]
    }
   ],
   "source": [
    "collections = db.person # 创建一个集合，集合就相当于SQL中的表名\n",
    "# 继续在表中添加数据\n",
    "\n",
    "person_one = {\n",
    "    'name': 'WHW',\n",
    "    'age': '24',\n",
    "    'height': '175',\n",
    "    'weight': '60'\n",
    "}\n",
    "\n",
    "result = collections.insert_one(person_one)  # 文档插入集合\n",
    "print(result)  # 打印结果\n",
    "print(result.inserted_id)  # 打印插入数据的返回 id 标识"
   ]
  },
  {
   "cell_type": "markdown",
   "id": "cacd6ca7",
   "metadata": {},
   "source": [
    "至此为止，数据库才创建成功, 接下来查看一下，果然数据库创建完成了\n"
   ]
  },
  {
   "cell_type": "code",
   "execution_count": 9,
   "id": "7bd59556",
   "metadata": {},
   "outputs": [
    {
     "data": {
      "text/plain": [
       "['admin', 'config', 'local', 'traffic']"
      ]
     },
     "execution_count": 9,
     "metadata": {},
     "output_type": "execute_result"
    }
   ],
   "source": [
    "db_list = client.list_database_names()\n",
    "db_list "
   ]
  },
  {
   "cell_type": "markdown",
   "id": "6462fd89",
   "metadata": {},
   "source": [
    "insert_one() 方法用于插入一条数据，当需要插入多条数据时可以使用insert_many()方法"
   ]
  },
  {
   "cell_type": "code",
   "execution_count": 13,
   "id": "72b1fb1d",
   "metadata": {},
   "outputs": [
    {
     "name": "stdout",
     "output_type": "stream",
     "text": [
      "<pymongo.results.InsertManyResult object at 0x000001BBCC663400>\n"
     ]
    }
   ],
   "source": [
    "person_one = {\n",
    "    'name': 'WHW',\n",
    "    'age': '24',\n",
    "    'height': '175',\n",
    "    'weight': '60'\n",
    "}\n",
    "\n",
    "person_two = {\n",
    "    'name': 'WHW',\n",
    "    'age': '22',\n",
    "    'height': '180',\n",
    "    'weight': '63'\n",
    "}\n",
    "\n",
    "person_list = [person_one, person_two]\n",
    "result = collections.insert_many(person_list)\n",
    "print(result)"
   ]
  },
  {
   "cell_type": "code",
   "execution_count": null,
   "id": "becefdab",
   "metadata": {},
   "outputs": [],
   "source": []
  },
  {
   "cell_type": "code",
   "execution_count": null,
   "id": "98823677",
   "metadata": {},
   "outputs": [],
   "source": []
  },
  {
   "cell_type": "code",
   "execution_count": null,
   "id": "36ae96f5",
   "metadata": {},
   "outputs": [],
   "source": []
  },
  {
   "cell_type": "code",
   "execution_count": null,
   "id": "09ec288d",
   "metadata": {},
   "outputs": [],
   "source": []
  },
  {
   "cell_type": "code",
   "execution_count": null,
   "id": "802a53e5",
   "metadata": {},
   "outputs": [],
   "source": []
  },
  {
   "cell_type": "code",
   "execution_count": null,
   "id": "07f2d8d9",
   "metadata": {},
   "outputs": [],
   "source": []
  },
  {
   "cell_type": "code",
   "execution_count": null,
   "id": "66728849",
   "metadata": {},
   "outputs": [],
   "source": []
  },
  {
   "cell_type": "code",
   "execution_count": null,
   "id": "dec25cd3",
   "metadata": {},
   "outputs": [],
   "source": []
  },
  {
   "cell_type": "code",
   "execution_count": null,
   "id": "8f4cea2e",
   "metadata": {},
   "outputs": [],
   "source": []
  },
  {
   "cell_type": "code",
   "execution_count": null,
   "id": "fff9c603",
   "metadata": {},
   "outputs": [],
   "source": []
  },
  {
   "cell_type": "code",
   "execution_count": null,
   "id": "dddb4b83",
   "metadata": {},
   "outputs": [],
   "source": []
  },
  {
   "cell_type": "code",
   "execution_count": null,
   "id": "37dc38ea",
   "metadata": {},
   "outputs": [],
   "source": []
  },
  {
   "cell_type": "code",
   "execution_count": null,
   "id": "9b9dc136",
   "metadata": {},
   "outputs": [],
   "source": []
  },
  {
   "cell_type": "code",
   "execution_count": null,
   "id": "525ff2c4",
   "metadata": {},
   "outputs": [],
   "source": []
  },
  {
   "cell_type": "code",
   "execution_count": null,
   "id": "30d67f37",
   "metadata": {},
   "outputs": [],
   "source": []
  }
 ],
 "metadata": {
  "kernelspec": {
   "display_name": "Python 3",
   "language": "python",
   "name": "python3"
  },
  "language_info": {
   "codemirror_mode": {
    "name": "ipython",
    "version": 3
   },
   "file_extension": ".py",
   "mimetype": "text/x-python",
   "name": "python",
   "nbconvert_exporter": "python",
   "pygments_lexer": "ipython3",
   "version": "3.8.6"
  }
 },
 "nbformat": 4,
 "nbformat_minor": 5
}
