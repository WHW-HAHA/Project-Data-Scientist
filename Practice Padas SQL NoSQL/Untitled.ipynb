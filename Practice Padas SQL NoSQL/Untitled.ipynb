{
 "cells": [
  {
   "cell_type": "markdown",
   "id": "2a6485fe",
   "metadata": {},
   "source": [
    "# 中期练习\n",
    "\n",
    "截止至此篇文章我们已经了解并练习了一些数据工程师的必备知识，例如Python中的Pandas包，SQL的语法和NoSQL的语法。这篇文章会通过一个相对简单的实际问题来复习一下之前所学过的知识。\n",
    "\n",
    "本次练习中我们仍然会使用之前在 SQL 章节中使用的数据库。首先我们会从数据库中或其一些数据，之后将这些数据分别储存为 DataFrame 和 NoSQL 的格式并做一些简单的分析和可视化。"
   ]
  },
  {
   "cell_type": "markdown",
   "id": "cc85b4cb",
   "metadata": {},
   "source": [
    "![](../SQL/Picture/DB_outline.png)"
   ]
  },
  {
   "cell_type": "code",
   "execution_count": null,
   "id": "a4d87322",
   "metadata": {},
   "outputs": [],
   "source": []
  }
 ],
 "metadata": {
  "kernelspec": {
   "display_name": "Python 3",
   "language": "python",
   "name": "python3"
  },
  "language_info": {
   "codemirror_mode": {
    "name": "ipython",
    "version": 3
   },
   "file_extension": ".py",
   "mimetype": "text/x-python",
   "name": "python",
   "nbconvert_exporter": "python",
   "pygments_lexer": "ipython3",
   "version": "3.8.6"
  }
 },
 "nbformat": 4,
 "nbformat_minor": 5
}
